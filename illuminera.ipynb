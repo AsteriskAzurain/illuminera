{
  "nbformat": 4,
  "nbformat_minor": 0,
  "metadata": {
    "colab": {
      "name": "illuminera.ipynb",
      "provenance": [],
      "collapsed_sections": [],
      "toc_visible": true,
      "include_colab_link": true
    },
    "kernelspec": {
      "display_name": "Python 3",
      "name": "python3"
    }
  },
  "cells": [
    {
      "cell_type": "markdown",
      "metadata": {
        "id": "view-in-github",
        "colab_type": "text"
      },
      "source": [
        "<a href=\"https://colab.research.google.com/github/AsteriskAzurain/illuminera/blob/main/illuminera.ipynb\" target=\"_parent\"><img src=\"https://colab.research.google.com/assets/colab-badge.svg\" alt=\"Open In Colab\"/></a>"
      ]
    },
    {
      "cell_type": "markdown",
      "metadata": {
        "id": "Vxk-A1ziROfe"
      },
      "source": [
        "# 处理excel\n"
      ]
    },
    {
      "cell_type": "markdown",
      "metadata": {
        "id": "3mC8b0ZQU2jB"
      },
      "source": [
        "## 0 - datetime - update [t_User_UserInfo]"
      ]
    },
    {
      "cell_type": "code",
      "metadata": {
        "id": "Em0Hnt0nUtsP",
        "outputId": "e8a13290-4c40-44e1-da5e-32a97ff3e5c4"
      },
      "source": [
        "import pandas as pd\n",
        "import os\n",
        "import numpy as np\n",
        "! pip install xlrd"
      ],
      "execution_count": null,
      "outputs": [
        {
          "output_type": "stream",
          "text": [
            "Looking in indexes: https://pypi.mirrors.ustc.edu.cn/simple/\n",
            "Collecting xlrd\n",
            "\u001b[?25l  Downloading https://mirrors.tuna.tsinghua.edu.cn/pypi/web/packages/b0/16/63576a1a001752e34bf8ea62e367997530dc553b689356b9879339cf45a4/xlrd-1.2.0-py2.py3-none-any.whl (103kB)\n",
            "\u001b[K     |████████████████████████████████| 112kB 10.4MB/s eta 0:00:01\n",
            "\u001b[?25hInstalling collected packages: xlrd\n",
            "Successfully installed xlrd-1.2.0\n"
          ],
          "name": "stdout"
        }
      ]
    },
    {
      "cell_type": "code",
      "metadata": {
        "id": "LhZ7hN-sUwX8"
      },
      "source": [
        "myfile='data/信息.xlsx'\n",
        "pwd=os.getcwd()\n",
        "pwd"
      ],
      "execution_count": null,
      "outputs": []
    },
    {
      "cell_type": "code",
      "metadata": {
        "id": "fdvqaG9kU1aQ"
      },
      "source": [
        "data=pd.read_excel(io=myfile,header=0)"
      ],
      "execution_count": null,
      "outputs": []
    },
    {
      "cell_type": "code",
      "metadata": {
        "id": "-jzAewGAVEJc",
        "outputId": "245b18ae-3fcc-4ee4-a3f1-bcad6f3c4827"
      },
      "source": [
        "data[:5]"
      ],
      "execution_count": null,
      "outputs": [
        {
          "output_type": "execute_result",
          "data": {
            "text/html": [
              "<div>\n",
              "<style scoped>\n",
              "    .dataframe tbody tr th:only-of-type {\n",
              "        vertical-align: middle;\n",
              "    }\n",
              "\n",
              "    .dataframe tbody tr th {\n",
              "        vertical-align: top;\n",
              "    }\n",
              "\n",
              "    .dataframe thead th {\n",
              "        text-align: right;\n",
              "    }\n",
              "</style>\n",
              "<table border=\"1\" class=\"dataframe\">\n",
              "  <thead>\n",
              "    <tr style=\"text-align: right;\">\n",
              "      <th></th>\n",
              "      <th>StaffName_Chinese</th>\n",
              "      <th>StaffName_English</th>\n",
              "      <th>E_Name</th>\n",
              "      <th>AD_Account</th>\n",
              "      <th>Code</th>\n",
              "    </tr>\n",
              "  </thead>\n",
              "  <tbody>\n",
              "    <tr>\n",
              "      <th>0</th>\n",
              "      <td>陈彦慧</td>\n",
              "      <td>Lynn Chen</td>\n",
              "      <td>Lynn Chen</td>\n",
              "      <td>Lynn.Chen</td>\n",
              "      <td>Lynn.Chen</td>\n",
              "    </tr>\n",
              "    <tr>\n",
              "      <th>1</th>\n",
              "      <td>周娉</td>\n",
              "      <td>Evan Zhou</td>\n",
              "      <td>Evan Zhou</td>\n",
              "      <td>Evan.Zhou</td>\n",
              "      <td>Evan.Zhou</td>\n",
              "    </tr>\n",
              "    <tr>\n",
              "      <th>2</th>\n",
              "      <td>蔡奕</td>\n",
              "      <td>Carol Cai</td>\n",
              "      <td>Carol Cai</td>\n",
              "      <td>Carol.Cai</td>\n",
              "      <td>Carol.Cai</td>\n",
              "    </tr>\n",
              "    <tr>\n",
              "      <th>3</th>\n",
              "      <td>董巍</td>\n",
              "      <td>David Dong</td>\n",
              "      <td>David Dong</td>\n",
              "      <td>David.Dong</td>\n",
              "      <td>David.Dong</td>\n",
              "    </tr>\n",
              "    <tr>\n",
              "      <th>4</th>\n",
              "      <td>周波</td>\n",
              "      <td>Paul Zhou</td>\n",
              "      <td>Paul Zhou</td>\n",
              "      <td>Paul.Zhou</td>\n",
              "      <td>Paul.Zhou</td>\n",
              "    </tr>\n",
              "  </tbody>\n",
              "</table>\n",
              "</div>"
            ],
            "text/plain": [
              "  StaffName_Chinese StaffName_English      E_Name  AD_Account        Code\n",
              "0               陈彦慧         Lynn Chen   Lynn Chen   Lynn.Chen   Lynn.Chen\n",
              "1                周娉         Evan Zhou   Evan Zhou   Evan.Zhou   Evan.Zhou\n",
              "2                蔡奕         Carol Cai   Carol Cai   Carol.Cai   Carol.Cai\n",
              "3                董巍        David Dong  David Dong  David.Dong  David.Dong\n",
              "4                周波         Paul Zhou   Paul Zhou   Paul.Zhou   Paul.Zhou"
            ]
          },
          "metadata": {
            "tags": []
          },
          "execution_count": 6
        }
      ]
    },
    {
      "cell_type": "code",
      "metadata": {
        "id": "t9GlLy4XVGZw",
        "outputId": "d30dd89d-dafe-4490-9f75-2604889d2779"
      },
      "source": [
        "data.columns.values\r\n",
        "#data['Unnamed: 5'][2]"
      ],
      "execution_count": null,
      "outputs": [
        {
          "output_type": "execute_result",
          "data": {
            "text/plain": [
              "array(['StaffName_Chinese', 'StaffName_English', 'E_Name', 'AD_Account',\n",
              "       'Code'], dtype=object)"
            ]
          },
          "metadata": {
            "tags": []
          },
          "execution_count": 7
        }
      ]
    },
    {
      "cell_type": "code",
      "metadata": {
        "id": "481ECbLwVH4V"
      },
      "source": [
        "for i in range(len(data)):\n",
        "    userid=data['id'][i]\n",
        "    oldID=data['PositionID'][i]\n",
        "    value=data['Unnamed: 5'][i]\n",
        "    newID=0 if str(value)=='nan' else int(value)\n",
        "    # print(userid,oldID,newID)\n",
        "    sql_str=\"update t_User_UserInfo set PositionID={1} where ID={0}\".format(userid,oldID)\n",
        "    print(sql_str)"
      ],
      "execution_count": null,
      "outputs": []
    },
    {
      "cell_type": "code",
      "metadata": {
        "id": "7E5VEnv1VJV9"
      },
      "source": [
        "idarr=[]\n",
        "for i in range(len(data)):\n",
        "    userid=str(data['id'][i])\n",
        "    idarr.append(userid)\n",
        "idstr=','.join(idarr)\n",
        "print(idstr)"
      ],
      "execution_count": null,
      "outputs": []
    },
    {
      "cell_type": "markdown",
      "metadata": {
        "id": "pkTx8TUpVgU_"
      },
      "source": [
        "## 1 - datetime - mentor&mentee"
      ]
    },
    {
      "cell_type": "code",
      "metadata": {
        "id": "aTpNKrHdVcrR"
      },
      "source": [
        "# myfile='data/mentee.xlsx'\n",
        "myfile='data/pydata.xlsx'\n",
        "staffinfo_file='data/staffinfo.xlsx'"
      ],
      "execution_count": null,
      "outputs": []
    },
    {
      "cell_type": "code",
      "metadata": {
        "id": "mxZJQXyWVpBn",
        "outputId": "aae3d9c0-9509-4e1d-8467-0be07e906617"
      },
      "source": [
        "staff_dict={}\n",
        "staff_data=pd.read_excel(io=staffinfo_file,header=0)\n",
        "print(staff_data.columns.values)\n",
        "\n",
        "for i in range(len(staff_data)):\n",
        "    pk=int(staff_data['HR_StaffInfoID'][i])\n",
        "    name=str(staff_data['StaffName_English'][i]).strip()\n",
        "    staff_dict.update({name:pk})\n",
        "len(staff_dict)\n",
        "print(staff_dict['Aaron Guo'])"
      ],
      "execution_count": null,
      "outputs": [
        {
          "output_type": "stream",
          "text": [
            "['HR_StaffInfoID' 'StaffName_English']\n",
            "72\n"
          ],
          "name": "stdout"
        }
      ]
    },
    {
      "cell_type": "code",
      "metadata": {
        "id": "Jw8ybTyrVrI_",
        "outputId": "5cd48c3e-9fcc-4617-8e66-b198934e2eb6"
      },
      "source": [
        "data=pd.read_excel(io=myfile,header=0)\n",
        "data[:5]"
      ],
      "execution_count": null,
      "outputs": [
        {
          "output_type": "error",
          "ename": "NameError",
          "evalue": "name 'pd' is not defined",
          "traceback": [
            "\u001b[0;31m---------------------------------------------------------------------------\u001b[0m",
            "\u001b[0;31mNameError\u001b[0m                                 Traceback (most recent call last)",
            "\u001b[0;32m<ipython-input-2-649de3075199>\u001b[0m in \u001b[0;36m<module>\u001b[0;34m\u001b[0m\n\u001b[0;32m----> 1\u001b[0;31m \u001b[0mdata\u001b[0m\u001b[0;34m=\u001b[0m\u001b[0mpd\u001b[0m\u001b[0;34m.\u001b[0m\u001b[0mread_excel\u001b[0m\u001b[0;34m(\u001b[0m\u001b[0mio\u001b[0m\u001b[0;34m=\u001b[0m\u001b[0mmyfile\u001b[0m\u001b[0;34m,\u001b[0m\u001b[0mheader\u001b[0m\u001b[0;34m=\u001b[0m\u001b[0;36m0\u001b[0m\u001b[0;34m)\u001b[0m\u001b[0;34m\u001b[0m\u001b[0;34m\u001b[0m\u001b[0m\n\u001b[0m\u001b[1;32m      2\u001b[0m \u001b[0mdata\u001b[0m\u001b[0;34m[\u001b[0m\u001b[0;34m:\u001b[0m\u001b[0;36m5\u001b[0m\u001b[0;34m]\u001b[0m\u001b[0;34m\u001b[0m\u001b[0;34m\u001b[0m\u001b[0m\n",
            "\u001b[0;31mNameError\u001b[0m: name 'pd' is not defined"
          ]
        }
      ]
    },
    {
      "cell_type": "code",
      "metadata": {
        "id": "OVq7qWX4VuaO",
        "outputId": "08f1fa4a-8b60-4469-9137-8862fd949f1d"
      },
      "source": [
        "data.columns.values"
      ],
      "execution_count": null,
      "outputs": [
        {
          "output_type": "execute_result",
          "data": {
            "text/plain": [
              "array(['mentorname', 'HR_StaffInfoID', 'menteename', 'MenteeID',\n",
              "       'StartDate', 'IsDeleted', 'CreateDate', 'CreateUserID',\n",
              "       'CurrentStatus'], dtype=object)"
            ]
          },
          "metadata": {
            "tags": []
          },
          "execution_count": 40
        }
      ]
    },
    {
      "cell_type": "code",
      "metadata": {
        "id": "5sKbG0sMVv1W"
      },
      "source": [
        "sql5=\"select m.HR_MenteeID from t_HR_Mentee m left join t_HR_StaffInfo s1 on m.HR_StaffInfoID=s1.HR_StaffInfoID left join t_HR_StaffInfo s2 on m.MenteeID=s2.HR_StaffInfoID\"\n",
        "sql4=sql5+\" where s1.StaffName_English='{}' and s2.StaffName_English='{}'\"\n",
        "menteelist=[]\n",
        "flist2=[]\n",
        "for i in range(len(data)):\n",
        "    m1=data['Mentor Name'][i]\n",
        "    m2=data['MenteeName'][i]\n",
        "    menteelist.append(m2)\n",
        "    s=sql4.format(m1,m2)\n",
        "    flist2.append(s)\n",
        "for ss in flist2:\n",
        "    print(ss)"
      ],
      "execution_count": null,
      "outputs": []
    },
    {
      "cell_type": "markdown",
      "metadata": {
        "id": "ayl9S14yVzjM"
      },
      "source": [
        "sql temp\n",
        "\n",
        "```sql\n",
        "select \n",
        "\tm.HR_MenteeID ,\n",
        "\tm.HR_StaffInfoID as 'mentor ID', \n",
        "\ts1.StaffName_English as 'Mentor Name',\n",
        "\ts1.StaffName_Chinese as 'Mentor C_Name', \n",
        "\tm.MenteeID as 'Mentee ID', \n",
        "\ts2.StaffName_English as 'Mentee Name',\n",
        "\ts2.StaffName_Chinese as 'Mentee C_Name',\n",
        "\tm.StartDate, m.EndDate, m.CurrentStatus\n",
        "from t_HR_Mentee m\n",
        "\tleft join t_HR_StaffInfo s1 on m.HR_StaffInfoID=s1.HR_StaffInfoID\n",
        "\tleft join t_HR_StaffInfo s2 on m.MenteeID=s2.HR_StaffInfoID\n",
        "where m.IsDeleted=1 and m.CurrentStatus=1\n",
        "ORDER BY\n",
        "\t(\n",
        "\t\tCASE s2.StaffName_English\n",
        "\t\tWHEN '高' THEN 3\n",
        "\t\tWHEN '中' THEN 2\n",
        "\t\tELSE 123\n",
        "\t\tEND\n",
        "\t) ASC\n",
        "```\n",
        "\n"
      ]
    },
    {
      "cell_type": "code",
      "metadata": {
        "id": "9jj0KGGoV6mK",
        "outputId": "59d56284-bca9-4d90-d1a0-288e7163d321"
      },
      "source": [
        "sql1=\"\"\"\n",
        "select \n",
        "\tm.HR_MenteeID ,\n",
        "\ts1.StaffName_English as 'Mentor Name',\n",
        "\ts2.StaffName_English as 'Mentee Name',\n",
        "\tm.StartDate, m.EndDate\n",
        "from t_HR_Mentee m\n",
        "\tleft join t_HR_StaffInfo s1 on m.HR_StaffInfoID=s1.HR_StaffInfoID\n",
        "\tleft join t_HR_StaffInfo s2 on m.MenteeID=s2.HR_StaffInfoID \n",
        "\"\"\"\n",
        "sql2=\"where s2.StaffName_English = '{}'\"\n",
        "sql3=\"WHEN '{}' THEN {}\"\n",
        "flist=[]\n",
        "i=1\n",
        "for m in menteelist:\n",
        "    # newstr=sql2.format(m)\n",
        "    newstr=sql3.format(m,i)\n",
        "    i+=1\n",
        "    flist.append(newstr)\n",
        "# len(flist)\n",
        "# print(sql1+' and '.join(flist))\n",
        "# print(sql1)\n",
        "for sql in flist:\n",
        "    print(sql)"
      ],
      "execution_count": null,
      "outputs": [
        {
          "output_type": "stream",
          "text": [
            "WHEN 'Karen Duan' THEN 1\n",
            "WHEN 'Stella Yang' THEN 2\n",
            "WHEN 'Arlene Xu' THEN 3\n",
            "WHEN 'M LU' THEN 4\n",
            "WHEN 'Yulin Fei' THEN 5\n",
            "WHEN 'Ariel Chen' THEN 6\n",
            "WHEN 'Rose Feng' THEN 7\n",
            "WHEN 'Collin Zeng' THEN 8\n",
            "WHEN 'Chuting Chang' THEN 9\n",
            "WHEN 'Yang Yang' THEN 10\n",
            "WHEN 'Xue Wu' THEN 11\n",
            "WHEN 'Monica Yang' THEN 12\n",
            "WHEN 'Lily Chen' THEN 13\n",
            "WHEN 'Christina Liao' THEN 14\n",
            "WHEN 'Tong Wang' THEN 15\n",
            "WHEN 'Perry Bian' THEN 16\n",
            "WHEN 'Sifan Huai' THEN 17\n",
            "WHEN 'Joy Pu' THEN 18\n",
            "WHEN 'Sophia Zhuo' THEN 19\n",
            "WHEN 'Yuki Wu' THEN 20\n",
            "WHEN 'Daisy Zhu' THEN 21\n",
            "WHEN 'Dorothy Zhu' THEN 22\n",
            "WHEN 'Olivia Ma' THEN 23\n",
            "WHEN 'Haofu Li' THEN 24\n",
            "WHEN 'Patrick Li' THEN 25\n",
            "WHEN 'Aaron Guo' THEN 26\n",
            "WHEN 'Lynn Zheng' THEN 27\n",
            "WHEN 'Claire Li' THEN 28\n",
            "WHEN 'Eric Duan' THEN 29\n",
            "WHEN 'Erin Tang' THEN 30\n",
            "WHEN 'Shelly Wei' THEN 31\n",
            "WHEN 'Angie Shen' THEN 32\n",
            "WHEN 'Viona Li' THEN 33\n",
            "WHEN 'Ariel Zhang' THEN 34\n",
            "WHEN 'Shen Jing' THEN 35\n",
            "WHEN 'Denise Wu' THEN 36\n",
            "WHEN 'Tina Du' THEN 37\n",
            "WHEN 'Calvin Hu' THEN 38\n",
            "WHEN 'Zora Yu' THEN 39\n",
            "WHEN 'Sharon Shen' THEN 40\n",
            "WHEN 'Vera Xu' THEN 41\n",
            "WHEN 'Gabrielle Guan' THEN 42\n",
            "WHEN 'Theresa Ye' THEN 43\n",
            "WHEN 'Jerry Jiao' THEN 44\n",
            "WHEN 'Oorain Ju' THEN 45\n",
            "WHEN 'Janice Wang' THEN 46\n",
            "WHEN 'Vivi Wu' THEN 47\n",
            "WHEN 'Eveline Tan' THEN 48\n",
            "WHEN 'Wei Liu' THEN 49\n",
            "WHEN 'Sabrina Zhu' THEN 50\n",
            "WHEN 'Nora Xu' THEN 51\n",
            "WHEN 'Wendy Zang' THEN 52\n",
            "WHEN 'Sally Li' THEN 53\n",
            "WHEN 'Pencil Chen' THEN 54\n",
            "WHEN 'Sherry Yuan' THEN 55\n",
            "WHEN 'Pencil Chen' THEN 56\n",
            "WHEN 'Serlin Qian' THEN 57\n",
            "WHEN 'Skye Sun' THEN 58\n",
            "WHEN 'Neo Wu' THEN 59\n",
            "WHEN 'Zemin Fan' THEN 60\n",
            "WHEN 'Thea Cui' THEN 61\n",
            "WHEN 'Francis Huang' THEN 62\n",
            "WHEN 'Leo Li' THEN 63\n",
            "WHEN 'Tracy Kong' THEN 64\n",
            "WHEN 'Steven Shuai' THEN 65\n",
            "WHEN 'Flora Han' THEN 66\n",
            "WHEN 'Hui Wang' THEN 67\n",
            "WHEN 'Nerissa Sun' THEN 68\n",
            "WHEN 'Cyssi Chen' THEN 69\n",
            "WHEN 'Alex Li' THEN 70\n",
            "WHEN 'Shawn Song' THEN 71\n",
            "WHEN 'Robin Lin' THEN 72\n",
            "WHEN 'Mia Wei' THEN 73\n",
            "WHEN 'David Dong' THEN 74\n",
            "WHEN 'Shanshan Ye' THEN 75\n",
            "WHEN 'Frances Zhang' THEN 76\n",
            "WHEN 'Lily Wang' THEN 77\n",
            "WHEN 'Thea Zhang' THEN 78\n",
            "WHEN 'Lilith Hua' THEN 79\n",
            "WHEN 'Iris Xu' THEN 80\n",
            "WHEN 'Naomi Chen' THEN 81\n",
            "WHEN 'Xi Wen' THEN 82\n",
            "WHEN 'Jason Pan' THEN 83\n",
            "WHEN 'Vera Li' THEN 84\n",
            "WHEN 'Chang Su' THEN 85\n",
            "WHEN 'Jiajia Hao' THEN 86\n",
            "WHEN 'Fistan Jin' THEN 87\n",
            "WHEN 'Neal Teng' THEN 88\n",
            "WHEN 'Zenki Zhang' THEN 89\n",
            "WHEN 'Serena Zhang' THEN 90\n",
            "WHEN 'Duo Xu' THEN 91\n",
            "WHEN 'Chelsie Chen' THEN 92\n",
            "WHEN 'Issac Ku' THEN 93\n",
            "WHEN 'Evelyn Chen' THEN 94\n",
            "WHEN 'Jiayi Zhou' THEN 95\n",
            "WHEN 'Leon Duan' THEN 96\n",
            "WHEN 'Alice He' THEN 97\n",
            "WHEN 'July Lin' THEN 98\n",
            "WHEN 'Evan Zhou' THEN 99\n",
            "WHEN 'Lynn Chen' THEN 100\n",
            "WHEN 'Grace Chen' THEN 101\n",
            "WHEN 'Adele Wu' THEN 102\n",
            "WHEN 'Jenny Zhang' THEN 103\n",
            "WHEN 'Faye Tang' THEN 104\n",
            "WHEN 'Kevin Cai' THEN 105\n",
            "WHEN 'Carol Cai' THEN 106\n",
            "WHEN 'Kaya Zhang' THEN 107\n",
            "WHEN 'Clara Jia' THEN 108\n",
            "WHEN 'Matthew Lu' THEN 109\n",
            "WHEN 'Claire Zhang' THEN 110\n",
            "WHEN 'Karen Liu' THEN 111\n",
            "WHEN 'Jessie Sun' THEN 112\n",
            "WHEN 'Cindy Liu' THEN 113\n",
            "WHEN 'Mavis Tong' THEN 114\n",
            "WHEN 'Lace Zhang' THEN 115\n",
            "WHEN 'SETHI ASHOK' THEN 116\n",
            "WHEN 'Rebecca Zhou' THEN 117\n",
            "WHEN 'Leslie Wang' THEN 118\n",
            "WHEN 'Banban Wang' THEN 119\n",
            "WHEN 'Jane Zhang' THEN 120\n",
            "WHEN 'Eugene Yang' THEN 121\n",
            "WHEN 'Kang Su' THEN 122\n"
          ],
          "name": "stdout"
        }
      ]
    },
    {
      "cell_type": "code",
      "metadata": {
        "id": "LFUpQmVTWBzc",
        "outputId": "236d5f81-8373-46ca-83f0-608f766b3d9c"
      },
      "source": [
        "mydict={}\n",
        "for i in range(len(data)):\n",
        "    m1=str(data['Mentor Name'][i]).strip()\n",
        "    old1=str(data['old mentor'][i]).strip()\n",
        "    # m2=data['MenteeName'][i]\n",
        "    # nm2=data['new mentee'][i]\n",
        "    # flag=True if(m1=='nan' or nm1=='nan' or str(m2)=='nan' or str(nm2)=='nan') else False\n",
        "    # if (str(m1)!='nan' and str(nm1)!='nan' and m1 != nm1):\n",
        "    if(str(old1)!='nan' and m1!=old1):\n",
        "        pk=int(data['pk'][i])\n",
        "        mydict.update({i+3:pk})\n",
        "mydict"
      ],
      "execution_count": null,
      "outputs": [
        {
          "output_type": "execute_result",
          "data": {
            "text/plain": [
              "{10: 115, 28: 140, 29: 101, 37: 144, 40: 141, 41: 77, 46: 27, 56: 105}"
            ]
          },
          "metadata": {
            "tags": []
          },
          "execution_count": 40
        }
      ]
    },
    {
      "cell_type": "code",
      "metadata": {
        "id": "bvixRv1IWDU9",
        "outputId": "88c5ea3c-c3fa-4300-a1a2-e6ea02bd7d7b"
      },
      "source": [
        "for k,v in mydict.items():\n",
        "    print(\"line:{}, pk:{}\".format(k,v))"
      ],
      "execution_count": null,
      "outputs": [
        {
          "output_type": "stream",
          "text": [
            "line:10, pk:115\n",
            "line:28, pk:140\n",
            "line:29, pk:101\n",
            "line:37, pk:144\n",
            "line:40, pk:141\n",
            "line:41, pk:77\n",
            "line:46, pk:27\n",
            "line:56, pk:105\n"
          ],
          "name": "stdout"
        }
      ]
    },
    {
      "cell_type": "code",
      "metadata": {
        "id": "blfEwDjPWFfw",
        "outputId": "40af7d56-4b72-43e4-8b06-977fcb61a0e0"
      },
      "source": [
        "m1=str(data['Mentor Name'][8]).strip()\n",
        "nm1=str(data['new mentor'][8]).strip()\n",
        "m1 == nm1"
      ],
      "execution_count": null,
      "outputs": [
        {
          "output_type": "execute_result",
          "data": {
            "text/plain": [
              "True"
            ]
          },
          "metadata": {
            "tags": []
          },
          "execution_count": 27
        }
      ]
    },
    {
      "cell_type": "code",
      "metadata": {
        "id": "UO59Tog7W2ne",
        "outputId": "be07b259-5970-4741-87fa-5e11b4923d61"
      },
      "source": [
        "date_ls=[]\n",
        "sqlf=sql5+\" where s1.StaffName_English='{}' and s2.StaffName_English='{}'\"\n",
        "sqlls=[]\n",
        "# ['Mentor Name', 'MenteeName', 'Start Date', 'End Date', 'Status', 'old date']\n",
        "for i in range(len(data)):\n",
        "    status=str(data['Status'][i]).strip()\n",
        "    date1=str(data['Start Date'][i]).strip()\n",
        "    date2=str(data['old date'][i]).strip()\n",
        "    n1=str(data['Mentor Name'][i]).strip()\n",
        "    n2=str(data['MenteeName'][i]).strip()\n",
        "    if(date1!=date2):\n",
        "        date_ls.append(i+3)\n",
        "    if(status=='未激活'):\n",
        "        sql=sqlf.format(n1,n2)\n",
        "        sqlls.append(sql)\n",
        "print(len(date_ls),len(sqlls))"
      ],
      "execution_count": null,
      "outputs": [
        {
          "output_type": "stream",
          "text": [
            "3 43\n"
          ],
          "name": "stdout"
        }
      ]
    },
    {
      "cell_type": "code",
      "metadata": {
        "id": "6rDJuOG3W5NY"
      },
      "source": [
        "for sql in sqlls:\n",
        "    print(sql)"
      ],
      "execution_count": null,
      "outputs": []
    },
    {
      "cell_type": "code",
      "metadata": {
        "id": "4cxKcyBBW779",
        "outputId": "c95c66ff-a26d-40b0-a861-6f993a6ddbfb"
      },
      "source": [
        "data[:5]"
      ],
      "execution_count": null,
      "outputs": [
        {
          "output_type": "execute_result",
          "data": {
            "text/html": [
              "<div>\n",
              "<style scoped>\n",
              "    .dataframe tbody tr th:only-of-type {\n",
              "        vertical-align: middle;\n",
              "    }\n",
              "\n",
              "    .dataframe tbody tr th {\n",
              "        vertical-align: top;\n",
              "    }\n",
              "\n",
              "    .dataframe thead th {\n",
              "        text-align: right;\n",
              "    }\n",
              "</style>\n",
              "<table border=\"1\" class=\"dataframe\">\n",
              "  <thead>\n",
              "    <tr style=\"text-align: right;\">\n",
              "      <th></th>\n",
              "      <th>mentorname</th>\n",
              "      <th>HR_StaffInfoID</th>\n",
              "      <th>menteename</th>\n",
              "      <th>MenteeID</th>\n",
              "    </tr>\n",
              "  </thead>\n",
              "  <tbody>\n",
              "    <tr>\n",
              "      <th>0</th>\n",
              "      <td>Aaron Guo</td>\n",
              "      <td>72.0</td>\n",
              "      <td>Stella Yang</td>\n",
              "      <td>1347.0</td>\n",
              "    </tr>\n",
              "    <tr>\n",
              "      <th>1</th>\n",
              "      <td>Aaron Guo</td>\n",
              "      <td>72.0</td>\n",
              "      <td>Arlene Xu</td>\n",
              "      <td>1328.0</td>\n",
              "    </tr>\n",
              "    <tr>\n",
              "      <th>2</th>\n",
              "      <td>Alice He</td>\n",
              "      <td>42.0</td>\n",
              "      <td>Christina Liao</td>\n",
              "      <td>1301.0</td>\n",
              "    </tr>\n",
              "    <tr>\n",
              "      <th>3</th>\n",
              "      <td>Carol Cai</td>\n",
              "      <td>7.0</td>\n",
              "      <td>Sifan Huai</td>\n",
              "      <td>1322.0</td>\n",
              "    </tr>\n",
              "    <tr>\n",
              "      <th>4</th>\n",
              "      <td>Carol Cai</td>\n",
              "      <td>7.0</td>\n",
              "      <td>Joy Pu</td>\n",
              "      <td>1336.0</td>\n",
              "    </tr>\n",
              "  </tbody>\n",
              "</table>\n",
              "</div>"
            ],
            "text/plain": [
              "  mentorname  HR_StaffInfoID      menteename  MenteeID\n",
              "0  Aaron Guo            72.0     Stella Yang    1347.0\n",
              "1  Aaron Guo            72.0       Arlene Xu    1328.0\n",
              "2   Alice He            42.0  Christina Liao    1301.0\n",
              "3  Carol Cai             7.0      Sifan Huai    1322.0\n",
              "4  Carol Cai             7.0          Joy Pu    1336.0"
            ]
          },
          "metadata": {
            "tags": []
          },
          "execution_count": 11
        }
      ]
    },
    {
      "cell_type": "code",
      "metadata": {
        "id": "GeIEkBFoW-QY"
      },
      "source": [
        "for i in range(len(data)):\n",
        "    # ['mentorname', 'HR_StaffInfoID', 'menteename', 'MenteeID']\n",
        "    name1=str(data['mentorname'][i]).strip()\n",
        "    data['HR_StaffInfoID'][i]=pk1=staff_dict[name1]\n",
        "    name2=str(data['menteename'][i]).strip()\n",
        "    data['MenteeID'][i]=pk2=staff_dict[name2]\n",
        "    print(pk1)"
      ],
      "execution_count": null,
      "outputs": []
    },
    {
      "cell_type": "code",
      "metadata": {
        "id": "N06IKKN9XEV9",
        "outputId": "b22738bd-9564-47be-ed5c-00a3967b3eb9"
      },
      "source": [
        "pk_upd_list=[\n",
        "    115,\n",
        "    140,\n",
        "    101,\n",
        "    144,\n",
        "    141,\n",
        "    77,\n",
        "    27,\n",
        "    105\n",
        "]\n",
        "pk_upd_list"
      ],
      "execution_count": null,
      "outputs": [
        {
          "output_type": "execute_result",
          "data": {
            "text/plain": [
              "[115, 140, 101, 144, 141, 77, 27, 105]"
            ]
          },
          "metadata": {
            "tags": []
          },
          "execution_count": 18
        }
      ]
    },
    {
      "cell_type": "code",
      "metadata": {
        "id": "RktJx_QMXGEt",
        "outputId": "1706b19c-fe41-4d46-aee5-bf9f88c4f28a"
      },
      "source": [
        "sql_upd=\"update t_HR_Mentee set CurrentStatus=0 where HR_MenteeID={}\"\n",
        "for pk in pk_upd_list:\n",
        "    print(sql_upd.format(pk))"
      ],
      "execution_count": null,
      "outputs": [
        {
          "output_type": "stream",
          "text": [
            "update t_HR_Mentee set CurrentStatus=0 where HR_MenteeID=115\n",
            "update t_HR_Mentee set CurrentStatus=0 where HR_MenteeID=140\n",
            "update t_HR_Mentee set CurrentStatus=0 where HR_MenteeID=101\n",
            "update t_HR_Mentee set CurrentStatus=0 where HR_MenteeID=144\n",
            "update t_HR_Mentee set CurrentStatus=0 where HR_MenteeID=141\n",
            "update t_HR_Mentee set CurrentStatus=0 where HR_MenteeID=77\n",
            "update t_HR_Mentee set CurrentStatus=0 where HR_MenteeID=27\n",
            "update t_HR_Mentee set CurrentStatus=0 where HR_MenteeID=105\n"
          ],
          "name": "stdout"
        }
      ]
    },
    {
      "cell_type": "code",
      "metadata": {
        "id": "BHJe8r7oXIp4",
        "outputId": "1eee4130-8e8b-468b-b67e-df52871fc4fa"
      },
      "source": [
        "# ['mentorname', 'HR_StaffInfoID', 'menteename', 'MenteeID', 'old_mentor_name', 'old_mentee_name']\n",
        "for i in range(8):\n",
        "    name1=str(data['old_mentor_name'][i]).strip()\n",
        "    pk1=staff_dict[name1]\n",
        "    name2=str(data['old_mentee_name'][i]).strip()\n",
        "    pk2=staff_dict[name2]\n",
        "    print(pk2)"
      ],
      "execution_count": null,
      "outputs": [
        {
          "output_type": "stream",
          "text": [
            "155\n",
            "72\n",
            "149\n",
            "1244\n",
            "1247\n",
            "56\n",
            "111\n",
            "90\n"
          ],
          "name": "stdout"
        }
      ]
    },
    {
      "cell_type": "code",
      "metadata": {
        "id": "9OP3OvtVXMSi",
        "outputId": "43979068-5cd8-4af6-bcd6-ca2fdd202a21"
      },
      "source": [
        "sqldata_file='data/pydata_sql.xlsx'\n",
        "sqldata=pd.read_excel(io=sqldata_file,header=0)\n",
        "print(sqldata.columns.values)\n",
        "oldid_ls=[]\n",
        "newid_ls=[]\n",
        "# len(sqldata['excel_ID'])"
      ],
      "execution_count": null,
      "outputs": [
        {
          "output_type": "stream",
          "text": [
            "['excel_ID' 'sql_ID' 'mentor ID' 'Mentor Name' 'Mentor C_Name' 'Mentee ID'\n",
            " 'Mentee Name' 'Mentee C_Name' 'StartDate' 'EndDate' 'CurrentStatus']\n"
          ],
          "name": "stdout"
        }
      ]
    },
    {
      "cell_type": "code",
      "metadata": {
        "id": "41oJJxzaXUm8",
        "outputId": "88694714-0e88-4fb4-fec1-af14cc5d7e5a"
      },
      "source": [
        "# sqldata['excel_ID'][79]\n",
        "# sqldata['excel_ID'][80]\n",
        "for i in range(80):\n",
        "    oldid=int(sqldata['excel_ID'][i])\n",
        "    newid=sqldata['sql_ID'][i]\n",
        "    oldid_ls.append(oldid)\n",
        "    newid_ls.append(newid)\n",
        "for i in (79,80):\n",
        "    oldid_ls.append(int(sqldata['excel_ID'][i]))\n",
        "print(len(oldid_ls),len(set(oldid_ls)))\n",
        "print(len(newid_ls),len(set(newid_ls)))"
      ],
      "execution_count": null,
      "outputs": [
        {
          "output_type": "stream",
          "text": [
            "164 81\n",
            "160 81\n"
          ],
          "name": "stdout"
        }
      ]
    },
    {
      "cell_type": "code",
      "metadata": {
        "id": "emi9mM_1XWLE",
        "outputId": "8331c4e8-ce74-4a65-993b-f9af2c5a5a1f"
      },
      "source": [
        "set(oldid_ls)-set(newid_ls)"
      ],
      "execution_count": null,
      "outputs": [
        {
          "output_type": "execute_result",
          "data": {
            "text/plain": [
              "{74, 96}"
            ]
          },
          "metadata": {
            "tags": []
          },
          "execution_count": 36
        }
      ]
    },
    {
      "cell_type": "code",
      "metadata": {
        "id": "TB6poPa4XYDU"
      },
      "source": [
        "# ['mentorname', 'HR_StaffInfoID', 'menteename', 'MenteeID', 'StartDate', 'IsDeleted', 'CreateDate', 'CreateUserID', 'CurrentStatus']\n",
        "sql_ins1=\"INSERT INTO table_name ('HR_StaffInfoID','MenteeID','StartDate','IsDeleted','CreateDate','CreateUserID', 'CurrentStatus')VALUES ({0},{1},{2},{3},{4},{5},{6});\"\n",
        "for i in range(len(data)):\n",
        "    d1=data['HR_StaffInfoID'][i]"
      ],
      "execution_count": null,
      "outputs": []
    },
    {
      "cell_type": "markdown",
      "metadata": {
        "id": "4KO0KHWRYhCt"
      },
      "source": [
        "## 2 - datetime - 对比Ename&ad_account"
      ]
    },
    {
      "cell_type": "code",
      "metadata": {
        "id": "Wz-xzY0DYo9N",
        "outputId": "5cc6d07f-c014-429c-9976-def1a4082d28"
      },
      "source": [
        "myfile='data/pydata.xlsx'\n",
        "data=pd.read_excel(io=myfile,header=0)\n",
        "name_list=[]\n",
        "for i in range(len(data)):\n",
        "    # array(['StaffName_Chinese', 'StaffName_English', 'E_Name', 'AD_Account', 'Code'], dtype=object)\n",
        "    name=str(data['StaffName_English'][i])\n",
        "    # name=str(data['E_Name'][i])\n",
        "    # nl=name.split()\n",
        "    # name_list.append(nl)\n",
        "    name_a = str(data['AD_Account'][i])\n",
        "    name_b=str(data['Code'][i])\n",
        "    nl=name_a.split('.')\n",
        "    name_list.append(nl)\n",
        "    if(name_a!=name_b):\n",
        "        print(str(i+2)+\", \"+name_a+\", \"+name_b)"
      ],
      "execution_count": null,
      "outputs": [
        {
          "output_type": "stream",
          "text": [
            "23, Claire.Li, Claire.LI\n",
            "38, M.LU, M.Lu\n",
            "82, Dorothy.Zhu, Dorothy.zhu\n",
            "102, Alice.He, Alice.He001\n",
            "105, Sherry.Yuan, sherry.yuan\n",
            "111, Jiayi.Zhou, JiaYi.Zhou\n",
            "116, Claire.Zhang, Claire.Zhang001\n",
            "118, Simin.Qu, Qu\n",
            "121, July.Lin, July.Lin001\n",
            "135, Jenny.Zhang, Jenny.Zhang001\n",
            "136, Adele.Wu, Adele.Wu001\n",
            "137, Evan.Zhou, Evan.Zhou001\n",
            "138, Carol.Cai, Carol.Cai001\n",
            "139, Faye.Tang, Faye.Tang001\n",
            "140, Matthew.Lu, Matthew.Lu001\n",
            "141, Matthew.Lu, Lu Yun\n",
            "142, SETHI.ASHOK, nan\n"
          ],
          "name": "stdout"
        }
      ]
    },
    {
      "cell_type": "code",
      "metadata": {
        "id": "phnDB0MWY4pk"
      },
      "source": [
        "for i in range(len(name_list)):\n",
        "    nl=name_list[i]\n",
        "    # print(':'.join(nl))\n",
        "    for item in nl:\n",
        "        n=ord(item[0])\n",
        "        n1=ord(item[1]) if len(item)>1 else 1\n",
        "        n=str(item[1]) if len(item)>1 else '1'\n",
        "        # if(not(n>=65 and n<=90) or not(n1>=97 and n1<=122)):\n",
        "        if(not(item[0]>='A' and item[0]<='Z') or not(item[1]>='a' and item[1]<='z')):\n",
        "        # if(not(n>=65 and n<=90)):\n",
        "            print(str(i+2)+\", \"+item)"
      ],
      "execution_count": null,
      "outputs": []
    },
    {
      "cell_type": "code",
      "metadata": {
        "id": "i3ktElNuY63S"
      },
      "source": [
        "ls1=[]\n",
        "ls2=[]\n",
        "for i in range(len(data)):\n",
        "    # array(['StaffName_Chinese', 'StaffName_English', 'E_Name', 'AD_Account', 'Code'], dtype=object)\n",
        "    n1=str(data['StaffName_English'][i])\n",
        "    n2=str(data['AD_Account'][i])\n",
        "    ls1.append(n2)\n",
        "    ls2.append('.'.join(n1.split()))"
      ],
      "execution_count": null,
      "outputs": []
    },
    {
      "cell_type": "code",
      "metadata": {
        "id": "nU1QqcTEY-rl"
      },
      "source": [
        "for i in range(len(ls1)):\n",
        "    print(str(i+2)+\", \"+ls1[i]+\", \"+ls2[i])\n",
        "    \n",
        "    # if(ls1[i]!=ls2[i]):\n",
        "    #     print(str(i+2)+\", \"+ls1[i]+\", \"+ls2[i])"
      ],
      "execution_count": null,
      "outputs": []
    },
    {
      "cell_type": "code",
      "metadata": {
        "id": "MDOnGRgAZAga",
        "outputId": "ecbc2bff-53c4-4bb3-ed98-00292c651969"
      },
      "source": [
        "file1='data/true.xlsx' # true\n",
        "file2='data/test.xlsx' # test\n",
        "data1=pd.read_excel(io=file1,header=0)\n",
        "data2=pd.read_excel(io=file2,header=0)\n",
        "print(data1.columns.values)\n",
        "# print(data2.columns.values)"
      ],
      "execution_count": null,
      "outputs": [
        {
          "output_type": "stream",
          "text": [
            "['HR_StaffInfoID' 'StaffName_English' 'AD_Account' 'HR_StaffInfoID.1'\n",
            " 'StaffNumber' 'StaffName_Chinese' 'StaffName_English.1' 'AD_Account.1'\n",
            " 'Sex' 'IDNumber' 'PassPortNumber' 'HKPassport' 'BirthDay' 'HomePhone'\n",
            " 'PhoneNumber' 'PersonalEmail' 'Nationality' 'Nation' 'Birthplace'\n",
            " 'PoliticalStatus' 'PhotoUrl' 'MarriageStatus' 'ResidenceAddress'\n",
            " 'PermanentAddress' 'EmergencyContactPerson' 'EmergencyContactPersonPhone'\n",
            " 'CompanyID' 'DepartmentID' 'PositionID' 'LineManager' 'ExtensionNumber'\n",
            " 'CompanyEmail' 'StaffStatus' 'StaffType' 'EntryDate' 'LeaveDate'\n",
            " 'VacationDays' 'UpdateDate' 'CreateDate' 'IsDeleted' 'UpdateUserId'\n",
            " 'CreatedUserId' 'IsTeamLeader' 'IsHaveChild' 'MappingERPID'\n",
            " 'IDNumberExpireDate' 'PassportNumberExpireDate' 'HKPassportExpireDate'\n",
            " 'Hukou' 'IsAuthorized']\n"
          ],
          "name": "stdout"
        }
      ]
    },
    {
      "cell_type": "code",
      "metadata": {
        "id": "YfxKH48DeFbB",
        "outputId": "f4baf844-e7e0-4a03-c744-bc37763a087a"
      },
      "source": [
        "for i in range(324):\n",
        "    name1=str(data1['StaffName_English'][i]).strip()\n",
        "    name2=str(data2['StaffName_English'][i]).strip()\n",
        "    id1=str(data1['HR_StaffInfoID'][i])\n",
        "    id2=str(data2['HR_StaffInfoID'][i])\n",
        "    if(name1!=name2):\n",
        "        print(\"true: \"+id1+':'+name1+\"\\ttest \"+id2+':'+name2)"
      ],
      "execution_count": null,
      "outputs": [
        {
          "output_type": "stream",
          "text": [
            "true: 201:Gina Fei\ttest 201:Yulin Fei\n",
            "true: 1255:Chelsie Chen\ttest 1255:Xi Chen1\n",
            "true: 1272:Jane Zhang\ttest 1272:Han Zhang\n",
            "true: 1275:Rebecca Zhou\ttest 1275:Rui Zhou\n",
            "true: 1277:Olivia Chang\ttest 1277:Chuting Chang\n",
            "true: 1291:Tina Du\ttest 1291:Zeyuan Du\n",
            "true: 1307:Mieko Feng\ttest 1307:Jiaye Feng\n"
          ],
          "name": "stdout"
        }
      ]
    },
    {
      "cell_type": "code",
      "metadata": {
        "id": "cnh--w2seH1f"
      },
      "source": [
        "mystr=\"update t_HR_StaffInfo set AD_Account='{ad}' where StaffName_English='{name}'\"\n",
        "for i in range(len(data1)):\n",
        "    ad=str(data1['AD_Account'][i]).strip()\n",
        "    name=str(data1['StaffName_English'][i]).strip()\n",
        "    print(mystr.format(ad=ad,name=name))"
      ],
      "execution_count": null,
      "outputs": []
    },
    {
      "cell_type": "code",
      "metadata": {
        "id": "9oC87dydeL5y",
        "outputId": "6cfcff60-dad5-41bf-872b-6f5f0d567543"
      },
      "source": [
        "adfile='data/nullad.xlsx'\n",
        "addata=pd.read_excel(io=adfile,header=0)\n",
        "addata.columns.values"
      ],
      "execution_count": null,
      "outputs": [
        {
          "output_type": "execute_result",
          "data": {
            "text/plain": [
              "array(['HR_StaffInfoID', 'StaffName_English', 'AD_Account',\n",
              "       'HR_StaffInfoID.1', 'StaffNumber', 'StaffName_Chinese',\n",
              "       'StaffName_English.1', 'AD_Account.1', 'Sex', 'IDNumber',\n",
              "       'PassPortNumber', 'HKPassport', 'BirthDay', 'HomePhone',\n",
              "       'PhoneNumber', 'PersonalEmail', 'Nationality', 'Nation',\n",
              "       'Birthplace', 'PoliticalStatus', 'PhotoUrl', 'MarriageStatus',\n",
              "       'ResidenceAddress', 'PermanentAddress', 'EmergencyContactPerson',\n",
              "       'EmergencyContactPersonPhone', 'CompanyID', 'DepartmentID',\n",
              "       'PositionID', 'LineManager', 'ExtensionNumber', 'CompanyEmail',\n",
              "       'StaffStatus', 'StaffType', 'EntryDate', 'LeaveDate',\n",
              "       'VacationDays', 'UpdateDate', 'CreateDate', 'IsDeleted',\n",
              "       'UpdateUserId', 'CreatedUserId', 'IsTeamLeader', 'IsHaveChild',\n",
              "       'MappingERPID', 'IDNumberExpireDate', 'PassportNumberExpireDate',\n",
              "       'HKPassportExpireDate', 'Hukou', 'IsAuthorized',\n",
              "       'IsRequireUpdate_Entry', 'IsRequireUpdate_Leave'], dtype=object)"
            ]
          },
          "metadata": {
            "tags": []
          },
          "execution_count": 8
        }
      ]
    },
    {
      "cell_type": "code",
      "metadata": {
        "id": "UFfRUJXjeV42"
      },
      "source": [
        "mystr=\"update t_HR_StaffInfo set AD_Account='{ad}' where StaffName_English='{name}'\"\n",
        "for i in range(len(addata)):\n",
        "    name=str(addata['StaffName_English'][i]).strip()\n",
        "    ad=name.replace(' ','.',2)\n",
        "    print(mystr.format(ad=ad,name=name))"
      ],
      "execution_count": null,
      "outputs": []
    },
    {
      "cell_type": "markdown",
      "metadata": {
        "id": "yD_AqFXReaXL"
      },
      "source": [
        "## 3 - datetime - 分机号"
      ]
    },
    {
      "cell_type": "code",
      "metadata": {
        "id": "RrWdrjBCedh0",
        "outputId": "8c0d925c-3ab1-4ffc-985c-841747f85b1d"
      },
      "source": [
        "file1='data/standard.xlsx' # true\n",
        "file2='data/test.xlsx' # test\n",
        "data1=pd.read_excel(io=file1,header=0)\n",
        "data2=pd.read_excel(io=file2,header=0)\n",
        "print(data1.columns.values)\n",
        "print(data2.columns.values)"
      ],
      "execution_count": null,
      "outputs": [
        {
          "output_type": "stream",
          "text": [
            "['No.' '直线号码段' '分机号' 'Name' 'Name.1' '备注']\n",
            "['No.' 'Name-E' 'Name-C' '分机号' '状态']\n"
          ],
          "name": "stdout"
        }
      ]
    },
    {
      "cell_type": "code",
      "metadata": {
        "id": "PleXxNFHerGi"
      },
      "source": [
        "for i in range(len(data1)):\n",
        "    name1=str(data1['Name'][i])\n",
        "    standard=str(data1['分机号'][i])\n",
        "    for j in range(len(data2)):\n",
        "        if(name1==data2['Name-E'][j]):\n",
        "            test=str(data2['分机号'][j])\n",
        "            # if(standard!=test):\n",
        "            #     print(standard+\"\\t\"+test)\n",
        "            print(standard+\"\\t\"+test)"
      ],
      "execution_count": null,
      "outputs": []
    },
    {
      "cell_type": "code",
      "metadata": {
        "id": "susFK-j7es02",
        "outputId": "8ddeab88-0730-4116-84f2-62ab10388f90"
      },
      "source": [
        "taskfile='data/task.xlsx'\n",
        "taskdata=pd.read_excel(io=taskfile,header=0)\n",
        "print(taskdata.columns.values)"
      ],
      "execution_count": null,
      "outputs": [
        {
          "output_type": "stream",
          "text": [
            "['No.' 'Name-E' 'Name-C' 'Name-E.1' '打印机端口号' '状态']\n"
          ],
          "name": "stdout"
        }
      ]
    },
    {
      "cell_type": "code",
      "metadata": {
        "id": "nbQKnj62exFk",
        "outputId": "6108141c-bcb8-4eac-f0b3-65696e814c64"
      },
      "source": [
        "for i in range(len(taskdata)):\n",
        "    name1=str(taskdata['Name-E'][i])\n",
        "    name2=str(taskdata['Name-E.1'][i])\n",
        "    if(name1!=name2):\n",
        "        print(str(i)+\"\\t\"+name1+\"\\t\"+name2)"
      ],
      "execution_count": null,
      "outputs": [
        {
          "output_type": "stream",
          "text": [
            "39\tIris Xu\tnan\n",
            "40\tIssac Ku\tIris Xu\n",
            "41\tJane Li\tIssac Ku\n",
            "42\tJane Zhang\tJane Li\n",
            "43\tJanice Wang\tJane Zhang\n",
            "44\tJason Pan\tJanice Wang\n",
            "45\tJenny Zhang\tJason Pan\n",
            "46\tJerry Jiao\tJenny Zhang\n",
            "47\tJessie Sun\tJerry Jiao\n",
            "48\tJessy Liu\tJessie Sun\n",
            "49\tJiajia Hao\tJessy Liu\n",
            "50\tJiayi Zhou\tJiajia Hao\n",
            "51\tJoy Pu\tJiayi Zhou\n",
            "52\tJuly Lin\tJoy Pu\n",
            "53\tKang Su\tJuly Lin\n",
            "54\tKaren Duan\tKang Su\n",
            "55\tKaren Liu\tKaren Duan\n",
            "56\tKaya Zhang\tKaren Liu\n",
            "57\tKelly Chen\tKaya Zhang\n",
            "58\tKevin Cai\tKelly Chen\n",
            "59\tLace Zhang\tKevin Cai\n",
            "60\tLeo Li\tLace Zhang\n",
            "61\tLeon Duan\tLeo Li\n",
            "62\tLeslie Wang\tLeon Duan\n",
            "63\tLilith Hua\tLeslie Wang\n",
            "64\tLily Chen\tLilith Hua\n",
            "65\tLily Wang\tLily Chen\n",
            "66\tLynn Chen\tLily Wang\n",
            "67\tLynn Zheng\tLynn Chen\n",
            "68\tM LU\tLynn Zheng\n",
            "69\tMatthew Lu\tM LU\n",
            "70\tMavis Tong\tMatthew Lu\n",
            "71\tMia Wei\tMavis Tong\n",
            "72\tMieko Feng\tMia Wei\n",
            "73\tMira Ma\tMieko Feng\n",
            "74\tMonica Yang\tMira Ma\n",
            "75\tNaomi Chen\tMonica Yang\n",
            "76\tNeal Teng\tNaomi Chen\n",
            "77\tNeo Wu\tNeal Teng\n",
            "78\tNerissa Sun\tNeo Wu\n",
            "79\tNora Xu \tNerissa Sun\n",
            "80\tOlivia Chang\tNora Xu \n",
            "81\tOlivia Ma\tOlivia Chang\n",
            "82\tOorain Ju\tOlivia Ma\n",
            "83\tPatrick Li\tOorain Ju\n",
            "84\tPaul Zhou\tPatrick Li\n",
            "85\tPencil Chen\tPaul Zhou\n",
            "86\tPerry Bian\tPencil Chen\n",
            "87\tRachel Ding\tPerry Bian\n",
            "88\tRebecca Zhou\tRachel Ding\n",
            "89\tRobin Lin\tRebecca Zhou\n",
            "90\tRose Feng\tRobin Lin\n",
            "91\tSabrina Zhu\tRose Feng\n",
            "92\tSally Li\tSabrina Zhu\n",
            "93\tSerena Zhang\tSally Li\n",
            "94\tSerlin Qian\tSerena Zhang\n",
            "95\tSETHI ASHOK\tSerlin Qian\n",
            "96\tShanshan Ye\tSETHI ASHOK\n",
            "97\tSharon Shen\tShanshan Ye\n",
            "98\tShawn Song\tSharon Shen\n",
            "99\tShelly Wei\tShawn Song\n",
            "100\tShen Jing\tShelly Wei\n",
            "101\tSherry Yuan\tShen Jing\n",
            "102\tSifan Huai\tSherry Yuan\n",
            "103\tSimin Qu\tShoujun Zhang\n",
            "104\tSkye Sun\tSifan Huai\n",
            "105\tSophia Zhuo\tSimin Qu\n",
            "106\tStella Wang\tSkye Sun\n",
            "107\tStella Yang\tSophia Zhuo\n",
            "108\tSteven Shuai\tStella Wang\n",
            "109\tThea Cui\tStella Yang\n",
            "110\tThea Zhang\tSteven Shuai\n",
            "111\tTheresa Ye\tThea Cui\n",
            "112\tTina Du\tThea Zhang\n",
            "113\tTong Wang\tTheresa Ye\n",
            "114\tTracy Kong\tTina Du\n",
            "115\tVera Li\tTong Wang\n",
            "116\tVera Xu\tTracy Kong\n",
            "117\tVera Zhang\tVera Li\n",
            "118\tViona Li\tVera Xu\n",
            "119\tVivi Wu\tVera Zhang\n",
            "120\tWei Liu\tViona Li\n",
            "121\tWendy Zang\tVivi Wu\n",
            "122\tXi Wen\tWei Liu\n",
            "123\tXue Wu\tWendy Zang\n",
            "124\tYang Yang\tXi Wen\n",
            "125\tYuki Wu\tXue Wu\n",
            "126\tZemin Fan\tYang Yang\n",
            "127\tZenki Zhang\tYuki Wu\n",
            "128\tZora Yu\tZemin Fan\n",
            "129\tSophie Chai\tZenki Zhang\n",
            "130\tnan\tZora Yu\n",
            "131\tnan\t阿姨\n",
            "132\tnan\tSophie Chai\n"
          ],
          "name": "stdout"
        }
      ]
    },
    {
      "cell_type": "markdown",
      "metadata": {
        "id": "Joosi6ACkUZa"
      },
      "source": [
        "## 4 - 20201117 - pms_p2f_0"
      ]
    },
    {
      "cell_type": "code",
      "metadata": {
        "id": "W5C_m7s5kWLL"
      },
      "source": [
        "# /content/drive/MyDrive/Colab Notebooks/workdata/feedBack_pms_0.xlsx\n",
        "import pandas as pd\n",
        "import numpy as np"
      ],
      "execution_count": null,
      "outputs": []
    },
    {
      "cell_type": "code",
      "metadata": {
        "id": "DVnzCOkMnC2K",
        "colab": {
          "base_uri": "https://localhost:8080/"
        },
        "outputId": "22873ba8-e0c8-46d1-86c2-911d7e7f5b1d"
      },
      "source": [
        "datafile='/content/drive/MyDrive/Colab Notebooks/workdata/feedBack_pms_0.xlsx'\n",
        "data=pd.read_excel(io=datafile,header=0)\n",
        "print(data.columns.values)"
      ],
      "execution_count": null,
      "outputs": [
        {
          "output_type": "stream",
          "text": [
            "['Unnamed: 0' 'sn' 'status' 'fileID' 'fileType' 'createTime' 'title'\n",
            " 'fileName']\n"
          ],
          "name": "stdout"
        }
      ]
    },
    {
      "cell_type": "markdown",
      "metadata": {
        "id": "ZpGx8qLvoK-9"
      },
      "source": [
        "###### ☆ [**Python中pandas dataframe删除一行或一列：drop函数**](https://blog.csdn.net/weixin_44266650/article/details/88416718)\n",
        "\n",
        "删除行列有两种方式：\n",
        "\n",
        "1）labels=None,axis=0 的组合\n",
        "\n",
        "\n",
        "```python\n",
        "# 删除行\n",
        "df.drop([0, 1])\n",
        "\n",
        "# 删除列\n",
        "# 一定要指定axis=1,否则会报错\n",
        "#    ValueError: labels ['B' 'C'] not contained in axis\n",
        "df.drop(['B', 'C'], axis=1)\n",
        "```\n",
        "\n",
        "\n",
        "\n",
        "2）index或columns直接指定要删除的行或列\n",
        "\n",
        "```python\n",
        "# 删除行\n",
        "df.drop(index=[0, 1])\n",
        "\n",
        "# 删除列\n",
        "df.drop(columns=['B', 'C'])\n",
        "```\n",
        "\n"
      ]
    },
    {
      "cell_type": "code",
      "metadata": {
        "id": "nkkLyH3jnRIi",
        "colab": {
          "base_uri": "https://localhost:8080/",
          "height": 289
        },
        "outputId": "4a6cb269-dc0d-412f-a7a7-4fdea3261330"
      },
      "source": [
        "data=data.drop(columns=['Unnamed: 0','sn'])\n",
        "data[:5]"
      ],
      "execution_count": null,
      "outputs": [
        {
          "output_type": "execute_result",
          "data": {
            "text/html": [
              "<div>\n",
              "<style scoped>\n",
              "    .dataframe tbody tr th:only-of-type {\n",
              "        vertical-align: middle;\n",
              "    }\n",
              "\n",
              "    .dataframe tbody tr th {\n",
              "        vertical-align: top;\n",
              "    }\n",
              "\n",
              "    .dataframe thead th {\n",
              "        text-align: right;\n",
              "    }\n",
              "</style>\n",
              "<table border=\"1\" class=\"dataframe\">\n",
              "  <thead>\n",
              "    <tr style=\"text-align: right;\">\n",
              "      <th></th>\n",
              "      <th>status</th>\n",
              "      <th>fileID</th>\n",
              "      <th>fileType</th>\n",
              "      <th>createTime</th>\n",
              "      <th>title</th>\n",
              "      <th>fileName</th>\n",
              "    </tr>\n",
              "  </thead>\n",
              "  <tbody>\n",
              "    <tr>\n",
              "      <th>0</th>\n",
              "      <td>file not exist</td>\n",
              "      <td>13</td>\n",
              "      <td>doc</td>\n",
              "      <td>2020/11/4 22:38:18</td>\n",
              "      <td>APP电子商务平台一期需求说明书V3.doc</td>\n",
              "      <td>E:\\Project\\2012\\201207\\120207\\DG\\APP电子商务平台一期需求...</td>\n",
              "    </tr>\n",
              "    <tr>\n",
              "      <th>1</th>\n",
              "      <td>file not exist</td>\n",
              "      <td>14</td>\n",
              "      <td>xls</td>\n",
              "      <td>2020/11/4 22:38:19</td>\n",
              "      <td>CR tool (MO2007).xls</td>\n",
              "      <td>E:\\Project\\120207\\Qnr\\CR tool (MO2007).xls</td>\n",
              "    </tr>\n",
              "    <tr>\n",
              "      <th>2</th>\n",
              "      <td>file not exist</td>\n",
              "      <td>20</td>\n",
              "      <td>jpg</td>\n",
              "      <td>2020/11/4 22:38:19</td>\n",
              "      <td>2012-6-5_20-31-58.jpg</td>\n",
              "      <td>E:\\Project\\120603\\Contract\\2012-6-5_20-31-58.jpg</td>\n",
              "    </tr>\n",
              "    <tr>\n",
              "      <th>3</th>\n",
              "      <td>file not exist</td>\n",
              "      <td>21</td>\n",
              "      <td>jpg</td>\n",
              "      <td>2020/11/4 22:38:19</td>\n",
              "      <td>2012-6-5_19-25-43.jpg</td>\n",
              "      <td>E:\\Project\\120603\\Data Set\\2012-6-5_19-25-43.jpg</td>\n",
              "    </tr>\n",
              "    <tr>\n",
              "      <th>4</th>\n",
              "      <td>file not exist</td>\n",
              "      <td>22</td>\n",
              "      <td>ppt</td>\n",
              "      <td>2020/11/4 22:38:20</td>\n",
              "      <td>120412 IMF Consumer Touch Points Study - Stage...</td>\n",
              "      <td>E:\\Project\\2012\\201207\\120702\\Proposal&amp;Quotati...</td>\n",
              "    </tr>\n",
              "  </tbody>\n",
              "</table>\n",
              "</div>"
            ],
            "text/plain": [
              "           status  ...                                           fileName\n",
              "0  file not exist  ...  E:\\Project\\2012\\201207\\120207\\DG\\APP电子商务平台一期需求...\n",
              "1  file not exist  ...         E:\\Project\\120207\\Qnr\\CR tool (MO2007).xls\n",
              "2  file not exist  ...   E:\\Project\\120603\\Contract\\2012-6-5_20-31-58.jpg\n",
              "3  file not exist  ...   E:\\Project\\120603\\Data Set\\2012-6-5_19-25-43.jpg\n",
              "4  file not exist  ...  E:\\Project\\2012\\201207\\120702\\Proposal&Quotati...\n",
              "\n",
              "[5 rows x 6 columns]"
            ]
          },
          "metadata": {
            "tags": []
          },
          "execution_count": 10
        }
      ]
    },
    {
      "cell_type": "markdown",
      "metadata": {
        "id": "7vfXjK7oqYJA"
      },
      "source": [
        "###### ☆ [**Switch statements in Python**](https://simonwillison.net/2004/May/7/switch/)\n",
        "\n",
        "lambda:\n",
        "\n",
        "```\n",
        "result = {\n",
        "  'a': lambda x: x * 5,\n",
        "  'b': lambda x: x + 7,\n",
        "  'c': lambda x: x - 2\n",
        "}[value](x)\n",
        "```\n",
        "\n",
        "\n",
        "[Python中为什么没有switch语法结构，有什么代替方案吗？ - 「已注销」的回答 - 知乎](https://www.zhihu.com/question/21123544/answer/63093300)\n",
        "```\n",
        "def s(x):\n",
        "    return{\n",
        "        'a':10,\n",
        "        'b':20,\n",
        "    }.get(x,99)\n",
        "```\n",
        "\n",
        "\n",
        "\n",
        "\n"
      ]
    },
    {
      "cell_type": "code",
      "metadata": {
        "id": "0tMv7lEenizY"
      },
      "source": [
        "n=len(data)\n",
        "c_success=c_fail=c_not_exist=0\n",
        "for i in range(len(data)):\n",
        "    status=data['status'][i]\n",
        "    # Success\n",
        "    # file not exist\n",
        "    # Fail and Copy Failed\n",
        "    if(status=='Success'):\n",
        "        c_success+=1\n",
        "    elif(status=='file not exist'):\n",
        "        c_not_exist+=1\n",
        "    elif(status=='Fail and Copy Failed'):\n",
        "        c_fail+=1\n",
        "    else:\n",
        "        op=data['fileID'][i]\n",
        "        print(i,'\\t',op)"
      ],
      "execution_count": null,
      "outputs": []
    },
    {
      "cell_type": "code",
      "metadata": {
        "id": "fp4R6eQ8nRFM",
        "colab": {
          "base_uri": "https://localhost:8080/"
        },
        "outputId": "8a493a44-f643-422d-8e91-1cc3bb6ec7ec"
      },
      "source": [
        "print(\n",
        "    '\\nFailed:\\t\\t',c_fail,'\\trate:\\t','{:.2%}'.format(c_fail/n),\n",
        "    '\\nSuccess:\\t',c_success,'\\trate:\\t','{:.2%}'.format(c_success/n),\n",
        "    '\\nnot_exist:\\t',c_not_exist,'\\trate:\\t','{:.2%}'.format(c_not_exist/n)    \n",
        "    )"
      ],
      "execution_count": null,
      "outputs": [
        {
          "output_type": "stream",
          "text": [
            "\n",
            "Failed:\t\t 1733 \trate:\t 21.77% \n",
            "Success:\t 5700 \trate:\t 71.59% \n",
            "not_exist:\t 529 \trate:\t 6.64%\n"
          ],
          "name": "stdout"
        }
      ]
    },
    {
      "cell_type": "markdown",
      "metadata": {
        "id": "BFFi6NPGvIRq"
      },
      "source": [
        "###### ☆ [Python 输出百分比的两种方式](https://blog.csdn.net/u013553529/article/details/78567696)\n",
        "\n",
        "**方式1：直接使用参数格式化：`{:.2%}`**\n",
        "\n",
        "\n",
        "```python\n",
        "print('percent: {:.2%}'.format(42/50))\n",
        "```\n",
        "\n",
        "> percent: 84.00%\n",
        "\n",
        "**方式2：格式化为float，然后处理成%格式： `{:.2f}%`**\n",
        "\n",
        "与方式1的区别是：\n",
        "1. 需要对`42/50`乘以 100 。\n",
        "2. 方式2的`%`在`{ }`外边，方式1的`%`在`{ }`里边。\n",
        "\n",
        "\n",
        "\n",
        "```python\n",
        "print('percent: {:.2f}%'.format(42/50*100))\n",
        "```\n",
        "\n",
        "\n",
        "> percent: 84.00%\n"
      ]
    },
    {
      "cell_type": "code",
      "metadata": {
        "id": "LpBH3AW7uzN0",
        "colab": {
          "base_uri": "https://localhost:8080/"
        },
        "outputId": "c91ff718-363e-4960-ba23-03eb15f0b552"
      },
      "source": [
        "# n=len(data)\n",
        "count=0\n",
        "c_success=c_fail=c_not_exist=0\n",
        "for i in range(len(data)):\n",
        "    fileType=data['fileType'][i]\n",
        "    fileType=fileType.lower() \n",
        "    if(fileType in ['doc','docx','ppt','pptx','xls','xlsx','pdf']):\n",
        "       count+=1\n",
        "       status=data['status'][i]\n",
        "       if(status=='Success'):\n",
        "           c_success+=1\n",
        "       elif(status=='file not exist'):\n",
        "           c_not_exist+=1\n",
        "       elif(status=='Fail and Copy Failed'):\n",
        "           c_fail+=1\n",
        "       else:\n",
        "           op=data['fileID'][i]\n",
        "           print(i,'\\t',op)\n",
        "    else:\n",
        "        if(fileType=='doc'):\n",
        "            print(fileType.lower())\n",
        "            break\n",
        "print(count)\n"
      ],
      "execution_count": null,
      "outputs": [
        {
          "output_type": "stream",
          "text": [
            "6190\n"
          ],
          "name": "stdout"
        }
      ]
    },
    {
      "cell_type": "code",
      "metadata": {
        "id": "SoWK6t2sww5Q",
        "colab": {
          "base_uri": "https://localhost:8080/"
        },
        "outputId": "9c00d3e3-f2ae-4dfe-d184-313bcb6913d9"
      },
      "source": [
        "print(\n",
        "    'count:\\t',count,\n",
        "    '\\nFailed:\\t\\t',c_fail,'\\trate:\\t','{:.2%}'.format(c_fail/count),\n",
        "    '\\nSuccess:\\t',c_success,'\\trate:\\t','{:.2%}'.format(c_success/count),\n",
        "    '\\nnot_exist:\\t',c_not_exist,'\\trate:\\t','{:.2%}'.format(c_not_exist/count)    \n",
        "    )"
      ],
      "execution_count": null,
      "outputs": [
        {
          "output_type": "stream",
          "text": [
            "count:\t 6190 \n",
            "Failed:\t\t 62 \trate:\t 1.00% \n",
            "Success:\t 5677 \trate:\t 91.71% \n",
            "not_exist:\t 451 \trate:\t 7.29%\n"
          ],
          "name": "stdout"
        }
      ]
    },
    {
      "cell_type": "code",
      "metadata": {
        "id": "ytYQSXi2nRCm"
      },
      "source": [
        "ls_type=[]\n",
        "ls_type_s=[]\n",
        "for i in range(len(data)):\n",
        "    fileType=data['fileType'][i]\n",
        "    fileType=fileType.lower()\n",
        "    if not (fileType in ls_type):\n",
        "        ls_type.append(fileType)\n",
        "    if(data['status'][i]=='Success' and not(fileType in ls_type_s)):\n",
        "        ls_type_s.append(fileType)"
      ],
      "execution_count": null,
      "outputs": []
    },
    {
      "cell_type": "code",
      "metadata": {
        "id": "ZgsxTZvhnQ-5",
        "colab": {
          "base_uri": "https://localhost:8080/"
        },
        "outputId": "048fbfb5-a417-450c-8eda-c6d49db61741"
      },
      "source": [
        "ls_type\n",
        "ls_type_s.sort()\n",
        "ls_type_s"
      ],
      "execution_count": null,
      "outputs": [
        {
          "output_type": "execute_result",
          "data": {
            "text/plain": [
              "['doc',\n",
              " 'docm',\n",
              " 'docx',\n",
              " 'pdf',\n",
              " 'ppt',\n",
              " 'pptm',\n",
              " 'pptx',\n",
              " 'xls',\n",
              " 'xlsb',\n",
              " 'xlsm',\n",
              " 'xlsx']"
            ]
          },
          "metadata": {
            "tags": []
          },
          "execution_count": 59
        }
      ]
    },
    {
      "cell_type": "markdown",
      "metadata": {
        "id": "esd7GkY223qi"
      },
      "source": [
        "## 5 - 20201118 - pms_missingFile\n",
        "\n",
        "查出数据库中未转换的文件，并查询此文件的转换状态"
      ]
    },
    {
      "cell_type": "code",
      "metadata": {
        "colab": {
          "base_uri": "https://localhost:8080/"
        },
        "id": "7n1aeqt03LFM",
        "outputId": "2d9856e1-ff0b-478a-e86d-0c59101149af"
      },
      "source": [
        "from google.colab import drive\n",
        "drive.mount('/content/drive')"
      ],
      "execution_count": 1,
      "outputs": [
        {
          "output_type": "stream",
          "text": [
            "Mounted at /content/drive\n"
          ],
          "name": "stdout"
        }
      ]
    },
    {
      "cell_type": "code",
      "metadata": {
        "id": "B9zbOqBN2y0-"
      },
      "source": [
        "import pandas as pd\n",
        "import numpy as np\n",
        "\n",
        "feedBackFile=\"/content/drive/MyDrive/Colab Notebooks/workdata/feedBack_pms_0.xlsx\"\n",
        "missingFile=\"/content/drive/MyDrive/Colab Notebooks/workdata/pmsMissing.xlsx\"\n",
        "fbData=pd.read_excel(io=feedBackFile,header=0,index_col=u'fileID')\n",
        "srcData=pd.read_excel(io=missingFile,header=0)"
      ],
      "execution_count": 6,
      "outputs": []
    },
    {
      "cell_type": "code",
      "metadata": {
        "colab": {
          "base_uri": "https://localhost:8080/",
          "height": 338
        },
        "id": "zHzt9ROn37Qk",
        "outputId": "283c0e23-d961-4ab0-aef9-c8e49a2ac90b"
      },
      "source": [
        "fbData=fbData.drop(columns=['Unnamed: 0','sn'])\n",
        "print(fbData.columns.values)\n",
        "fbData[:5]"
      ],
      "execution_count": 7,
      "outputs": [
        {
          "output_type": "stream",
          "text": [
            "['status' 'fileType' 'createTime' 'title' 'fileName']\n"
          ],
          "name": "stdout"
        },
        {
          "output_type": "execute_result",
          "data": {
            "text/html": [
              "<div>\n",
              "<style scoped>\n",
              "    .dataframe tbody tr th:only-of-type {\n",
              "        vertical-align: middle;\n",
              "    }\n",
              "\n",
              "    .dataframe tbody tr th {\n",
              "        vertical-align: top;\n",
              "    }\n",
              "\n",
              "    .dataframe thead th {\n",
              "        text-align: right;\n",
              "    }\n",
              "</style>\n",
              "<table border=\"1\" class=\"dataframe\">\n",
              "  <thead>\n",
              "    <tr style=\"text-align: right;\">\n",
              "      <th></th>\n",
              "      <th>status</th>\n",
              "      <th>fileType</th>\n",
              "      <th>createTime</th>\n",
              "      <th>title</th>\n",
              "      <th>fileName</th>\n",
              "    </tr>\n",
              "    <tr>\n",
              "      <th>fileID</th>\n",
              "      <th></th>\n",
              "      <th></th>\n",
              "      <th></th>\n",
              "      <th></th>\n",
              "      <th></th>\n",
              "    </tr>\n",
              "  </thead>\n",
              "  <tbody>\n",
              "    <tr>\n",
              "      <th>13</th>\n",
              "      <td>file not exist</td>\n",
              "      <td>doc</td>\n",
              "      <td>2020/11/4 22:38:18</td>\n",
              "      <td>APP电子商务平台一期需求说明书V3.doc</td>\n",
              "      <td>E:\\Project\\2012\\201207\\120207\\DG\\APP电子商务平台一期需求...</td>\n",
              "    </tr>\n",
              "    <tr>\n",
              "      <th>14</th>\n",
              "      <td>file not exist</td>\n",
              "      <td>xls</td>\n",
              "      <td>2020/11/4 22:38:19</td>\n",
              "      <td>CR tool (MO2007).xls</td>\n",
              "      <td>E:\\Project\\120207\\Qnr\\CR tool (MO2007).xls</td>\n",
              "    </tr>\n",
              "    <tr>\n",
              "      <th>20</th>\n",
              "      <td>file not exist</td>\n",
              "      <td>jpg</td>\n",
              "      <td>2020/11/4 22:38:19</td>\n",
              "      <td>2012-6-5_20-31-58.jpg</td>\n",
              "      <td>E:\\Project\\120603\\Contract\\2012-6-5_20-31-58.jpg</td>\n",
              "    </tr>\n",
              "    <tr>\n",
              "      <th>21</th>\n",
              "      <td>file not exist</td>\n",
              "      <td>jpg</td>\n",
              "      <td>2020/11/4 22:38:19</td>\n",
              "      <td>2012-6-5_19-25-43.jpg</td>\n",
              "      <td>E:\\Project\\120603\\Data Set\\2012-6-5_19-25-43.jpg</td>\n",
              "    </tr>\n",
              "    <tr>\n",
              "      <th>22</th>\n",
              "      <td>file not exist</td>\n",
              "      <td>ppt</td>\n",
              "      <td>2020/11/4 22:38:20</td>\n",
              "      <td>120412 IMF Consumer Touch Points Study - Stage...</td>\n",
              "      <td>E:\\Project\\2012\\201207\\120702\\Proposal&amp;Quotati...</td>\n",
              "    </tr>\n",
              "  </tbody>\n",
              "</table>\n",
              "</div>"
            ],
            "text/plain": [
              "                status  ...                                           fileName\n",
              "fileID                  ...                                                   \n",
              "13      file not exist  ...  E:\\Project\\2012\\201207\\120207\\DG\\APP电子商务平台一期需求...\n",
              "14      file not exist  ...         E:\\Project\\120207\\Qnr\\CR tool (MO2007).xls\n",
              "20      file not exist  ...   E:\\Project\\120603\\Contract\\2012-6-5_20-31-58.jpg\n",
              "21      file not exist  ...   E:\\Project\\120603\\Data Set\\2012-6-5_19-25-43.jpg\n",
              "22      file not exist  ...  E:\\Project\\2012\\201207\\120702\\Proposal&Quotati...\n",
              "\n",
              "[5 rows x 5 columns]"
            ]
          },
          "metadata": {
            "tags": []
          },
          "execution_count": 7
        }
      ]
    },
    {
      "cell_type": "code",
      "metadata": {
        "colab": {
          "base_uri": "https://localhost:8080/",
          "height": 410
        },
        "id": "MA0I_n3U394n",
        "outputId": "1b58ba2c-5ea6-4c6e-fcb8-3ba9da755da6"
      },
      "source": [
        "print(srcData.columns.values)\n",
        "srcData[:5]"
      ],
      "execution_count": 8,
      "outputs": [
        {
          "output_type": "stream",
          "text": [
            "['Id' 'ProId' 'FileName' 'FileID' 'FileNameType' 'FileFolder' 'FileType'\n",
            " 'UploadDate' 'UploadUserId']\n"
          ],
          "name": "stdout"
        },
        {
          "output_type": "execute_result",
          "data": {
            "text/html": [
              "<div>\n",
              "<style scoped>\n",
              "    .dataframe tbody tr th:only-of-type {\n",
              "        vertical-align: middle;\n",
              "    }\n",
              "\n",
              "    .dataframe tbody tr th {\n",
              "        vertical-align: top;\n",
              "    }\n",
              "\n",
              "    .dataframe thead th {\n",
              "        text-align: right;\n",
              "    }\n",
              "</style>\n",
              "<table border=\"1\" class=\"dataframe\">\n",
              "  <thead>\n",
              "    <tr style=\"text-align: right;\">\n",
              "      <th></th>\n",
              "      <th>Id</th>\n",
              "      <th>ProId</th>\n",
              "      <th>FileName</th>\n",
              "      <th>FileID</th>\n",
              "      <th>FileNameType</th>\n",
              "      <th>FileFolder</th>\n",
              "      <th>FileType</th>\n",
              "      <th>UploadDate</th>\n",
              "      <th>UploadUserId</th>\n",
              "    </tr>\n",
              "  </thead>\n",
              "  <tbody>\n",
              "    <tr>\n",
              "      <th>0</th>\n",
              "      <td>241</td>\n",
              "      <td>140</td>\n",
              "      <td>Extension of Tesco Online Community Aug 6.pptx</td>\n",
              "      <td>0390D722-4AB8-461E-BF8C-797C5F73704F</td>\n",
              "      <td>pptx</td>\n",
              "      <td>E:\\Project\\2012\\201208\\120822\\Proposal&amp;Quotation\\</td>\n",
              "      <td>4</td>\n",
              "      <td>NaT</td>\n",
              "      <td>NaN</td>\n",
              "    </tr>\n",
              "    <tr>\n",
              "      <th>1</th>\n",
              "      <td>338</td>\n",
              "      <td>195</td>\n",
              "      <td>120507 Trajenta Storyline_Message Finetune and...</td>\n",
              "      <td>3BA9C7C6-6BDF-4830-A68D-44D44F88B571</td>\n",
              "      <td>ppt</td>\n",
              "      <td>E:\\Project\\2012\\201209\\120916\\Proposal&amp;Quotation\\</td>\n",
              "      <td>4</td>\n",
              "      <td>NaT</td>\n",
              "      <td>NaN</td>\n",
              "    </tr>\n",
              "    <tr>\n",
              "      <th>2</th>\n",
              "      <td>368</td>\n",
              "      <td>181</td>\n",
              "      <td>120821 Physician DG for T1DM Market Understand...</td>\n",
              "      <td>EF0C567A-27A2-49B7-964B-F48F21F1B623</td>\n",
              "      <td>doc</td>\n",
              "      <td>E:\\Project\\2012\\201208\\120821\\DG\\</td>\n",
              "      <td>3</td>\n",
              "      <td>NaT</td>\n",
              "      <td>NaN</td>\n",
              "    </tr>\n",
              "    <tr>\n",
              "      <th>3</th>\n",
              "      <td>369</td>\n",
              "      <td>181</td>\n",
              "      <td>120821 Patient DG for T1DM Market Understandin...</td>\n",
              "      <td>89DABA99-B7E6-47AA-8692-2354518C94B7</td>\n",
              "      <td>doc</td>\n",
              "      <td>E:\\Project\\2012\\201208\\120821\\DG\\</td>\n",
              "      <td>3</td>\n",
              "      <td>NaT</td>\n",
              "      <td>NaN</td>\n",
              "    </tr>\n",
              "    <tr>\n",
              "      <th>4</th>\n",
              "      <td>372</td>\n",
              "      <td>181</td>\n",
              "      <td>120821 KOL DG for T1DM Market Understanding St...</td>\n",
              "      <td>33F837C0-AC0D-4D64-A482-F5744A782A10</td>\n",
              "      <td>doc</td>\n",
              "      <td>E:\\Project\\2012\\201208\\120821\\DG\\</td>\n",
              "      <td>3</td>\n",
              "      <td>NaT</td>\n",
              "      <td>NaN</td>\n",
              "    </tr>\n",
              "  </tbody>\n",
              "</table>\n",
              "</div>"
            ],
            "text/plain": [
              "    Id  ProId  ... UploadDate UploadUserId\n",
              "0  241    140  ...        NaT          NaN\n",
              "1  338    195  ...        NaT          NaN\n",
              "2  368    181  ...        NaT          NaN\n",
              "3  369    181  ...        NaT          NaN\n",
              "4  372    181  ...        NaT          NaN\n",
              "\n",
              "[5 rows x 9 columns]"
            ]
          },
          "metadata": {
            "tags": []
          },
          "execution_count": 8
        }
      ]
    },
    {
      "cell_type": "code",
      "metadata": {
        "colab": {
          "base_uri": "https://localhost:8080/",
          "height": 659
        },
        "id": "6lNJhgJ7GZAG",
        "outputId": "badf11e1-5789-4f4a-de5c-c306090ab7eb"
      },
      "source": [
        "srcData['status']=''\n",
        "for i in range(len(srcData)):\n",
        "    sql_id=int(srcData['Id'][i])\n",
        "    try:\n",
        "        # print(fbData['status'][sql_id])\n",
        "        srcData['status'][i]=fbData['status'][sql_id]\n",
        "    except:\n",
        "        srcData['status'][i]='/'\n",
        "    # srcData['status'][i]=fbData['status'][sql_id]\n",
        "\n",
        "srcData[:5]"
      ],
      "execution_count": 17,
      "outputs": [
        {
          "output_type": "stream",
          "text": [
            "/usr/local/lib/python3.6/dist-packages/ipykernel_launcher.py:6: SettingWithCopyWarning: \n",
            "A value is trying to be set on a copy of a slice from a DataFrame\n",
            "\n",
            "See the caveats in the documentation: https://pandas.pydata.org/pandas-docs/stable/user_guide/indexing.html#returning-a-view-versus-a-copy\n",
            "  \n",
            "/usr/local/lib/python3.6/dist-packages/ipykernel_launcher.py:8: SettingWithCopyWarning: \n",
            "A value is trying to be set on a copy of a slice from a DataFrame\n",
            "\n",
            "See the caveats in the documentation: https://pandas.pydata.org/pandas-docs/stable/user_guide/indexing.html#returning-a-view-versus-a-copy\n",
            "  \n"
          ],
          "name": "stderr"
        },
        {
          "output_type": "execute_result",
          "data": {
            "text/html": [
              "<div>\n",
              "<style scoped>\n",
              "    .dataframe tbody tr th:only-of-type {\n",
              "        vertical-align: middle;\n",
              "    }\n",
              "\n",
              "    .dataframe tbody tr th {\n",
              "        vertical-align: top;\n",
              "    }\n",
              "\n",
              "    .dataframe thead th {\n",
              "        text-align: right;\n",
              "    }\n",
              "</style>\n",
              "<table border=\"1\" class=\"dataframe\">\n",
              "  <thead>\n",
              "    <tr style=\"text-align: right;\">\n",
              "      <th></th>\n",
              "      <th>Id</th>\n",
              "      <th>ProId</th>\n",
              "      <th>FileName</th>\n",
              "      <th>FileID</th>\n",
              "      <th>FileNameType</th>\n",
              "      <th>FileFolder</th>\n",
              "      <th>FileType</th>\n",
              "      <th>UploadDate</th>\n",
              "      <th>UploadUserId</th>\n",
              "      <th>status</th>\n",
              "    </tr>\n",
              "  </thead>\n",
              "  <tbody>\n",
              "    <tr>\n",
              "      <th>0</th>\n",
              "      <td>241</td>\n",
              "      <td>140</td>\n",
              "      <td>Extension of Tesco Online Community Aug 6.pptx</td>\n",
              "      <td>0390D722-4AB8-461E-BF8C-797C5F73704F</td>\n",
              "      <td>pptx</td>\n",
              "      <td>E:\\Project\\2012\\201208\\120822\\Proposal&amp;Quotation\\</td>\n",
              "      <td>4</td>\n",
              "      <td>NaT</td>\n",
              "      <td>NaN</td>\n",
              "      <td>file not exist</td>\n",
              "    </tr>\n",
              "    <tr>\n",
              "      <th>1</th>\n",
              "      <td>338</td>\n",
              "      <td>195</td>\n",
              "      <td>120507 Trajenta Storyline_Message Finetune and...</td>\n",
              "      <td>3BA9C7C6-6BDF-4830-A68D-44D44F88B571</td>\n",
              "      <td>ppt</td>\n",
              "      <td>E:\\Project\\2012\\201209\\120916\\Proposal&amp;Quotation\\</td>\n",
              "      <td>4</td>\n",
              "      <td>NaT</td>\n",
              "      <td>NaN</td>\n",
              "      <td>file not exist</td>\n",
              "    </tr>\n",
              "    <tr>\n",
              "      <th>2</th>\n",
              "      <td>368</td>\n",
              "      <td>181</td>\n",
              "      <td>120821 Physician DG for T1DM Market Understand...</td>\n",
              "      <td>EF0C567A-27A2-49B7-964B-F48F21F1B623</td>\n",
              "      <td>doc</td>\n",
              "      <td>E:\\Project\\2012\\201208\\120821\\DG\\</td>\n",
              "      <td>3</td>\n",
              "      <td>NaT</td>\n",
              "      <td>NaN</td>\n",
              "      <td>file not exist</td>\n",
              "    </tr>\n",
              "    <tr>\n",
              "      <th>3</th>\n",
              "      <td>369</td>\n",
              "      <td>181</td>\n",
              "      <td>120821 Patient DG for T1DM Market Understandin...</td>\n",
              "      <td>89DABA99-B7E6-47AA-8692-2354518C94B7</td>\n",
              "      <td>doc</td>\n",
              "      <td>E:\\Project\\2012\\201208\\120821\\DG\\</td>\n",
              "      <td>3</td>\n",
              "      <td>NaT</td>\n",
              "      <td>NaN</td>\n",
              "      <td>file not exist</td>\n",
              "    </tr>\n",
              "    <tr>\n",
              "      <th>4</th>\n",
              "      <td>372</td>\n",
              "      <td>181</td>\n",
              "      <td>120821 KOL DG for T1DM Market Understanding St...</td>\n",
              "      <td>33F837C0-AC0D-4D64-A482-F5744A782A10</td>\n",
              "      <td>doc</td>\n",
              "      <td>E:\\Project\\2012\\201208\\120821\\DG\\</td>\n",
              "      <td>3</td>\n",
              "      <td>NaT</td>\n",
              "      <td>NaN</td>\n",
              "      <td>file not exist</td>\n",
              "    </tr>\n",
              "  </tbody>\n",
              "</table>\n",
              "</div>"
            ],
            "text/plain": [
              "    Id  ProId  ... UploadUserId          status\n",
              "0  241    140  ...          NaN  file not exist\n",
              "1  338    195  ...          NaN  file not exist\n",
              "2  368    181  ...          NaN  file not exist\n",
              "3  369    181  ...          NaN  file not exist\n",
              "4  372    181  ...          NaN  file not exist\n",
              "\n",
              "[5 rows x 10 columns]"
            ]
          },
          "metadata": {
            "tags": []
          },
          "execution_count": 17
        }
      ]
    },
    {
      "cell_type": "code",
      "metadata": {
        "id": "NCST42u9Io6v"
      },
      "source": [
        "from datetime import datetime\n",
        "now=datetime.now().strftime(\"%Y%m%d_%H%M%S\")\n",
        "srcData.to_excel(\"/content/drive/MyDrive/Colab Notebooks/workdata/pms_{0}.xlsx\".format(now))"
      ],
      "execution_count": 19,
      "outputs": []
    },
    {
      "cell_type": "markdown",
      "metadata": {
        "id": "cFOTl9Q4VKxk"
      },
      "source": [
        "# 连接ms数据库"
      ]
    },
    {
      "cell_type": "markdown",
      "metadata": {
        "id": "IzvWUdvMVSM_"
      },
      "source": [
        "## 0 - datetime - 测试连接"
      ]
    },
    {
      "cell_type": "code",
      "metadata": {
        "id": "I9UDnHdEVN9B"
      },
      "source": [
        "import pymssql"
      ],
      "execution_count": null,
      "outputs": []
    },
    {
      "cell_type": "code",
      "metadata": {
        "id": "E15fN98YVZJt"
      },
      "source": [
        "# server    数据库服务器名称或IP\n",
        "# user      用户名\n",
        "# password  密码\n",
        "# database  数据库名称\n",
        "server='192.168.1.245'\n",
        "user='sa'\n",
        "password='Illuminera2011'\n",
        "database='IllumineraERP'\n",
        "conn = pymssql.connect(server, user, password, database)"
      ],
      "execution_count": null,
      "outputs": []
    },
    {
      "cell_type": "code",
      "metadata": {
        "id": "w4QO-B8SVaiv"
      },
      "source": [
        "cursor = conn.cursor()"
      ],
      "execution_count": null,
      "outputs": []
    },
    {
      "cell_type": "markdown",
      "metadata": {
        "id": "yBhV-EdgRttC"
      },
      "source": [
        "# 处理xml"
      ]
    },
    {
      "cell_type": "markdown",
      "metadata": {
        "id": "T1TAM9kUfa8J"
      },
      "source": [
        "## 0 - 20200918 - avaya user"
      ]
    },
    {
      "cell_type": "code",
      "metadata": {
        "id": "kNwzP2UGfXvO"
      },
      "source": [
        "from xml.dom.minidom import parse\n",
        "# from urllib.request import urlopen\n",
        "# from xml.etree.ElementTree import parse"
      ],
      "execution_count": null,
      "outputs": []
    },
    {
      "cell_type": "code",
      "metadata": {
        "id": "eyPon-O9faS1"
      },
      "source": [
        "dom=parse('data/IPOFFICESD_Users.xml')\n",
        "data=dom.documentElement\n",
        "users=data.getElementsByTagName('tns:user')"
      ],
      "execution_count": null,
      "outputs": []
    },
    {
      "cell_type": "code",
      "metadata": {
        "id": "WIbSPeUVfko1",
        "outputId": "d0f203a8-7ce1-4dce-e61f-448fd2bafdff"
      },
      "source": [
        "from pandas import Series,DataFrame\n",
        "import pandas as pd\n",
        "!pip install openpyxl\n",
        "import openpyxl"
      ],
      "execution_count": null,
      "outputs": [
        {
          "output_type": "stream",
          "text": [
            "Looking in indexes: https://pypi.mirrors.ustc.edu.cn/simple/\n",
            "Collecting openpyxl\n",
            "\u001b[?25l  Downloading https://mirrors.tuna.tsinghua.edu.cn/pypi/web/packages/5c/90/61f83be1c335a9b69fa773784a785d9de95c7561d1661918796fd1cba3d2/openpyxl-3.0.5-py2.py3-none-any.whl (242kB)\n",
            "\u001b[K     |████████████████████████████████| 245kB 4.6MB/s eta 0:00:01\n",
            "\u001b[?25hCollecting jdcal (from openpyxl)\n",
            "  Downloading https://mirrors.tuna.tsinghua.edu.cn/pypi/web/packages/f0/da/572cbc0bc582390480bbd7c4e93d14dc46079778ed915b505dc494b37c57/jdcal-1.4.1-py2.py3-none-any.whl\n",
            "Collecting et-xmlfile (from openpyxl)\n",
            "  Downloading https://mirrors.tuna.tsinghua.edu.cn/pypi/web/packages/22/28/a99c42aea746e18382ad9fb36f64c1c1f04216f41797f2f0fa567da11388/et_xmlfile-1.0.1.tar.gz\n",
            "Building wheels for collected packages: et-xmlfile\n",
            "  Building wheel for et-xmlfile (setup.py) ... \u001b[?25ldone\n",
            "\u001b[?25h  Created wheel for et-xmlfile: filename=et_xmlfile-1.0.1-cp37-none-any.whl size=8917 sha256=8e87ea7f83d6e9ff744c00d87622bd2bff725798bbc025d1bc4aa056ca487896\n",
            "  Stored in directory: /home/aistudio/.cache/pip/wheels/22/08/69/f546610376ad227cb3f48c8c39dec786990fdbc961dc69ff9d\n",
            "Successfully built et-xmlfile\n",
            "Installing collected packages: jdcal, et-xmlfile, openpyxl\n",
            "Successfully installed et-xmlfile-1.0.1 jdcal-1.4.1 openpyxl-3.0.5\n"
          ],
          "name": "stdout"
        }
      ]
    },
    {
      "cell_type": "code",
      "metadata": {
        "id": "I1PXsrTmfolJ"
      },
      "source": [
        "df=pd.DataFrame(columns=[\"E_Name\",\"C_Name\",\"extension\"])"
      ],
      "execution_count": null,
      "outputs": []
    },
    {
      "cell_type": "code",
      "metadata": {
        "id": "9YVijrfHfqqQ"
      },
      "source": [
        "for user in users:\n",
        "    loginname=user.getElementsByTagName('loginName')[0].childNodes[0].nodeValue.strip(\"@user\").split(' ')\n",
        "    extension=user.getElementsByTagName('csm:extension')[0].childNodes[0].nodeValue\n",
        "    ename=loginname[0]\n",
        "    cname=\"\"\n",
        "    if(len(loginname)>2):\n",
        "        ename=loginname[0]+\" \"+loginname[1]\n",
        "        cname=loginname[-1]\n",
        "    userdict={'E_Name':ename,'C_Name':cname,'extension':extension}\n",
        "    df=df.append(userdict,ignore_index=True)\n",
        "    # print(userdict)\n",
        "\n",
        "datalength=len(users)"
      ],
      "execution_count": null,
      "outputs": []
    },
    {
      "cell_type": "code",
      "metadata": {
        "id": "ACVgAMUJfso2"
      },
      "source": [
        "import datetime\n",
        "now=datetime.datetime.now().strftime(\"%Y%m%d_%H%M%S\")\n",
        "filename=\"AVAYA分机号\"+str(datalength)+\"_\"+now+\".xlsx\"\n",
        "\n",
        "df.to_excel(\"work/\"+filename)"
      ],
      "execution_count": null,
      "outputs": []
    },
    {
      "cell_type": "code",
      "metadata": {
        "id": "2dd53SwvfxIF",
        "outputId": "6826a0e6-23ae-4552-d89e-ba54bdb6f59e"
      },
      "source": [
        "import pandas as pd\n",
        "import os\n",
        "import numpy as np\n",
        "! pip install xlrd"
      ],
      "execution_count": null,
      "outputs": [
        {
          "output_type": "stream",
          "text": [
            "Looking in indexes: https://pypi.mirrors.ustc.edu.cn/simple/\n",
            "Collecting xlrd\n",
            "\u001b[?25l  Downloading https://mirrors.tuna.tsinghua.edu.cn/pypi/web/packages/b0/16/63576a1a001752e34bf8ea62e367997530dc553b689356b9879339cf45a4/xlrd-1.2.0-py2.py3-none-any.whl (103kB)\n",
            "\u001b[K     |████████████████████████████████| 112kB 10.1MB/s eta 0:00:01\n",
            "\u001b[?25hInstalling collected packages: xlrd\n",
            "Successfully installed xlrd-1.2.0\n"
          ],
          "name": "stdout"
        }
      ]
    },
    {
      "cell_type": "code",
      "metadata": {
        "id": "J6oTUa5Vfzxc",
        "outputId": "feea5e6d-fda2-4806-cbc7-5272c9b3e422"
      },
      "source": [
        "cardfile='data/card0818.xlsx'\n",
        "cardinfo=pd.read_excel(io=cardfile,header=0)\n",
        "extenfile='data/143_20200918_133203.xlsx'\n",
        "extdata=pd.read_excel(io=extenfile,header=0)\n",
        "\n",
        "print(len(cardinfo))\n",
        "print(cardinfo.columns.values)\n",
        "print(len(extdata))\n",
        "print(extdata.columns.values)"
      ],
      "execution_count": null,
      "outputs": [
        {
          "output_type": "stream",
          "text": [
            "131\n",
            "['序号' '部门' '中文名' '英文名' '中文职位' '英文职位' '总机' '分机号' '手机' '邮箱' '名片份数']\n",
            "143\n",
            "['E_Name' 'C_Name' 'extension']\n"
          ],
          "name": "stdout"
        }
      ]
    },
    {
      "cell_type": "code",
      "metadata": {
        "id": "q5LoolGef8fn",
        "outputId": "49751bf3-6956-4ebc-c2bf-f7c0ef3ee810"
      },
      "source": [
        "for i in range(len(cardinfo)):\n",
        "    card_ename=str(cardinfo['英文名'][i]).strip()\n",
        "    card_ext=int(cardinfo['分机号'][i])\n",
        "    for j in range(len(extdata)):\n",
        "        ext_ename=str(extdata['E_Name'][j]).strip()\n",
        "        ext_extnum=int(extdata['extension'][j])\n",
        "        # if((card_ename==ext_ename) and str(card_ext)!=str(ext_extnum)):\n",
        "            # print(card_ename+'\\tcard: '+str(card_ext)+'\\tsystem: '+str(ext_extnum))\n",
        "        if((card_ext==ext_extnum) and (card_ename!=ext_ename)):\n",
        "            print(str(card_ext)+',\\t'+str(card_ename)+',\\t'+ext_ename)"
      ],
      "execution_count": null,
      "outputs": [
        {
          "output_type": "stream",
          "text": [
            "8116,\tFrances Zhang,\tFrances Z\n",
            "8077,\tSETHIASHOK,\tSETHI ASHOK\n",
            "8152,\tSerena Zhang,\tSerena Z\n",
            "8141,\tGina Fei,\tYulin Fei\n",
            "8122,\tFrancis Huang,\tFrancis H\n",
            "8136,\tOlivia Chang,\tChuting C\n",
            "8135,\tSteven Shuai,\tSteven\n",
            "8121,\tGabrielle Guan,\tGabrielle G\n",
            "8137,\tChristina Liao,\tChristina L\n",
            "8049,\tClaire Zhang,\tClaire Z\n",
            "8133,\tSophie Chai,\tSophieChai\n"
          ],
          "name": "stdout"
        }
      ]
    },
    {
      "cell_type": "code",
      "metadata": {
        "id": "zF0Tf4YwgI60",
        "outputId": "6bbeafcc-ae9f-4b95-833c-cde518c9df26"
      },
      "source": [
        "set_cardext=set(cardinfo['分机号'])\n",
        "set_syext=set(extdata['extension'])\n",
        "subSet=set_syext-set_cardext\n",
        "print(subSet)\n",
        "for j in range(len(extdata)):\n",
        "    ext_ename=str(extdata['E_Name'][j]).strip()\n",
        "    ext_extnum=int(extdata['extension'][j])\n",
        "    if(ext_extnum in subSet):\n",
        "        print(ext_ename+'\\t'+str(ext_extnum))"
      ],
      "execution_count": null,
      "outputs": [
        {
          "output_type": "stream",
          "text": [
            "{8000, 8103, 8072, 8105, 8074, 8108, 8109, 8111, 8112, 8113, 8115, 8053, 8091, 8092}\n",
            "Newton\t8053\n",
            "Einstein\t8072\n",
            "Galileo\t8074\n",
            "Franklin\t8091\n",
            "Da\t8092\n",
            "Hugo\t8103\n",
            "Bacon\t8105\n",
            "Mozart\t8108\n",
            "Goeth\t8109\n",
            "Haydn\t8112\n",
            "Copernic\t8111\n",
            "Switchboard\t8000\n",
            "Jane\t8113\n",
            "Joe Zhu\t8115\n"
          ],
          "name": "stdout"
        }
      ]
    },
    {
      "cell_type": "code",
      "metadata": {
        "id": "56WmnxdmgOG4",
        "outputId": "ee2a0c4d-cbeb-4b48-8691-d5117221e893"
      },
      "source": [
        "myfile='data/分机号_20200918_170104.xlsx'\n",
        "mydata=pd.read_excel(io=myfile,header=0)\n",
        "\n",
        "print(len(mydata))\n",
        "print(mydata.columns.values)"
      ],
      "execution_count": null,
      "outputs": [
        {
          "output_type": "stream",
          "text": [
            "159\n",
            "['序号' '连续' 'loginName' 'C_Name' 'extension' '分机号' '中文名' '英文名']\n"
          ],
          "name": "stdout"
        }
      ]
    },
    {
      "cell_type": "code",
      "metadata": {
        "id": "hSVRDKkagUlT",
        "outputId": "c56c80cf-74a5-4dff-874a-d4cc747b5e07"
      },
      "source": [
        "for i in range(len(mydata)):\n",
        "    sy_name=str(mydata['C_Name'][i]).strip()\n",
        "    card_name=str(mydata['中文名'][i]).strip()\n",
        "    sy_ext=str(mydata['extension'][i]).strip()\n",
        "    card_ext=str(mydata['分机号'][i]).strip()\n",
        "    if((sy_name!=card_name) or (sy_ext!=card_ext)):\n",
        "        output=\"{0},{1},{2},{3}\".format(sy_name,card_name,sy_ext,card_ext)\n",
        "        print(output)   "
      ],
      "execution_count": null,
      "outputs": [
        {
          "output_type": "stream",
          "text": [
            "nan,nan,8000.0,nan\n",
            "金振末,金振未,8026.0,8026.0\n",
            "nan,王卉,nan,8031.0\n",
            "卞鹏瑞,卞鹏睿,8036.0,8036.0\n",
            "nan,杜泽元,nan,8038.0\n",
            "nan,nan,8053.0,nan\n",
            "许沺,徐沺,8065.0,8065.0\n",
            "封佳钰,封加烨,8067.0,8067.0\n",
            "nan,nan,8072.0,nan\n",
            "nan,nan,8074.0,nan\n",
            "nan,nan,8091.0,nan\n",
            "nan,nan,8092.0,nan\n",
            "nan,nan,8103.0,nan\n",
            "nan,nan,8105.0,nan\n",
            "nan,nan,8108.0,nan\n",
            "nan,nan,8109.0,nan\n",
            "nan,nan,8111.0,nan\n",
            "nan,nan,8112.0,nan\n",
            "张吴江,nan,8113.0,nan\n",
            "滕赟,滕贇,8114.0,8114.0\n",
            "朱萍,nan,8115.0,nan\n"
          ],
          "name": "stdout"
        }
      ]
    },
    {
      "cell_type": "markdown",
      "metadata": {
        "id": "Evzx4VZmg6oJ"
      },
      "source": [
        "## 1 - 20200919 - avaya user 2"
      ]
    },
    {
      "cell_type": "code",
      "metadata": {
        "id": "UuutacXxgZZb",
        "outputId": "5f13724b-513c-4a97-f00b-dd069270e0cc"
      },
      "source": [
        "from pandas import Series,DataFrame\n",
        "import pandas as pd\n",
        "!pip install openpyxl\n",
        "import openpyxl\n",
        "!pip install xlrd"
      ],
      "execution_count": null,
      "outputs": [
        {
          "output_type": "stream",
          "text": [
            "Looking in indexes: https://pypi.mirrors.ustc.edu.cn/simple/\n",
            "Requirement already satisfied: openpyxl in /opt/conda/envs/python35-paddle120-env/lib/python3.7/site-packages (3.0.5)\n",
            "Requirement already satisfied: jdcal in /opt/conda/envs/python35-paddle120-env/lib/python3.7/site-packages (from openpyxl) (1.4.1)\n",
            "Requirement already satisfied: et-xmlfile in /opt/conda/envs/python35-paddle120-env/lib/python3.7/site-packages (from openpyxl) (1.0.1)\n",
            "Looking in indexes: https://pypi.mirrors.ustc.edu.cn/simple/\n",
            "Requirement already satisfied: xlrd in /opt/conda/envs/python35-paddle120-env/lib/python3.7/site-packages (1.2.0)\n"
          ],
          "name": "stdout"
        }
      ]
    },
    {
      "cell_type": "code",
      "metadata": {
        "id": "FyViaDPwhK8Z"
      },
      "source": [
        "df=pd.DataFrame(columns=[\"连续\",\"分机号\",\"英文名\",\"中文名\",\"loginName\",\"备注\"])"
      ],
      "execution_count": null,
      "outputs": []
    },
    {
      "cell_type": "code",
      "metadata": {
        "id": "z8pUNIzrhMiq",
        "outputId": "6a116ea9-e813-4a5c-9da7-8465867df0f3"
      },
      "source": [
        "cardfile='data/card0818.xlsx'\n",
        "cardinfo=pd.read_excel(io=cardfile,header=0)\n",
        "extenfile='data/143_20200919_004133.xlsx'\n",
        "extdata=pd.read_excel(io=extenfile,header=0)\n",
        "\n",
        "print(len(cardinfo))\n",
        "print(cardinfo.columns.values)\n",
        "print(len(extdata))\n",
        "print(extdata.columns.values)"
      ],
      "execution_count": null,
      "outputs": [
        {
          "output_type": "stream",
          "text": [
            "131\n",
            "['序号' '部门' '中文名' '英文名' '中文职位' '英文职位' '总机' '分机号' '手机' '邮箱' '名片份数']\n",
            "143\n",
            "['loginName' 'E_Name' 'C_Name' 'extension']\n"
          ],
          "name": "stdout"
        }
      ]
    },
    {
      "cell_type": "code",
      "metadata": {
        "id": "qzNPrVcJhQ7y"
      },
      "source": [
        "remark=ename=cname=loginName=extension=\"\"\n",
        "    # 1. 根据ext匹配data里的数据\n",
        "    # 2. 填入ename cname loginname \n",
        "    # 3. loginname: 'Switchboard'->前台\n",
        "    #               ['Hugo','Bacon','Mozart','Goeth','Copernic','Haydn']->电话间\n",
        "    #               ['Newton','Einstein','Galileo','Franklin','Da Vinci']->会议室\n",
        "ls_r1=['Newton','Einstein','Galileo','Franklin','Da Vinci']\n",
        "ls_r2=['Hugo','Bacon','Mozart','Goeth','Copernic','Haydn']"
      ],
      "execution_count": null,
      "outputs": []
    },
    {
      "cell_type": "code",
      "metadata": {
        "id": "mMuKptyshTqW"
      },
      "source": [
        "for index in range(200):\n",
        "    indexEXT=8000+index\n",
        "    for i in range(len(extdata)):\n",
        "        sy_ext=int(extdata['extension'][i])\n",
        "        if(sy_ext==indexEXT):\n",
        "            loginName=str(extdata['loginName'][i]).strip()\n",
        "            if loginName in ls_r1:\n",
        "                remark=\"会议室\"\n",
        "            elif loginName in ls_r2:\n",
        "                remark=\"电话间\"\n",
        "            else:\n",
        "                remark=\"前台\" if(loginName==\"Switchboard\") else ''\n",
        "            break\n",
        "    for j in range(len(cardinfo)):\n",
        "        card_ext=int(cardinfo['分机号'][j])\n",
        "        if(card_ext==indexEXT):\n",
        "            ename=str(cardinfo['英文名'][j]).strip()\n",
        "            cname=str(cardinfo['中文名'][j]).strip()\n",
        "            break\n",
        "    if(sy_ext==card_ext):\n",
        "        extension=sy_ext\n",
        "    if(loginName==''):\n",
        "        remark=\"留空\"\n",
        "    userdict={'连续':indexEXT,'分机号':extension,'英文名':ename,'中文名':cname,'loginName':loginName,'备注':remark}\n",
        "    df=df.append(userdict,ignore_index=True)\n",
        "    remark=ename=cname=loginName=extension=\"\""
      ],
      "execution_count": null,
      "outputs": []
    },
    {
      "cell_type": "code",
      "metadata": {
        "id": "kruyWW2NhVVc"
      },
      "source": [
        "import datetime\n",
        "now=datetime.datetime.now().strftime(\"%Y%m%d_%H%M%S\")\n",
        "filename=\"分机号_\"+now+\".xlsx\"\n",
        "\n",
        "df.to_excel(\"work/\"+filename)   "
      ],
      "execution_count": null,
      "outputs": []
    },
    {
      "cell_type": "markdown",
      "metadata": {
        "id": "g_fOcHFrhuuM"
      },
      "source": [
        "## 2 - datetime - print2flash_kms"
      ]
    },
    {
      "cell_type": "code",
      "metadata": {
        "id": "zWBU3VYDhxRs"
      },
      "source": [
        "dom=parse('data/convertSwf_0_5079.xml')\n",
        "data=dom.documentElement\n",
        "sn_dom=data.getElementsByTagName('sn')\n",
        "status_dom=data.getElementsByTagName('status')\n",
        "fileID_dom=data.getElementsByTagName('fileID')\n",
        "title_dom=data.getElementsByTagName('title')\n",
        "fileName_dom=data.getElementsByTagName('fileName')\n",
        "fileType_dom=data.getElementsByTagName('fileType')\n",
        "createTime_dom=data.getElementsByTagName('createTime')"
      ],
      "execution_count": null,
      "outputs": []
    },
    {
      "cell_type": "code",
      "metadata": {
        "id": "Aeh5KgC8h5Sj"
      },
      "source": [
        "import pandas as pd\n",
        "df=pd.DataFrame(columns=[\"sn\",\"status\",\"fileID\",\"title\",\"fileName\",\"fileType\",\"createTime\"])\n",
        "for i in range(len(sn_dom)):\n",
        "    v1=sn_dom[i].childNodes[0].nodeValue\n",
        "    v2=status_dom[i].childNodes[0].nodeValue\n",
        "    v3=title_dom[i].childNodes[0].nodeValue\n",
        "    v4=fileID_dom[i].childNodes[0].nodeValue\n",
        "    v5=v6=\"\"\n",
        "    if(i not in (3621,3633,3699,3718,3761,3837,3997,4081,4102,4165)):\n",
        "        v5=fileType_dom[i].childNodes[0].nodeValue\n",
        "    if(i!=204):\n",
        "        v6=fileName_dom[i].childNodes[0].nodeValue\n",
        "    v7=createTime_dom[i].childNodes[0].nodeValue\n",
        "    mydict={'sn':v1,'status':v2,'fileID':v4,'title':v3,'fileName':v6,'fileType':v5,'createTime':v7}\n",
        "    df=df.append(mydict,ignore_index=True)"
      ],
      "execution_count": null,
      "outputs": []
    },
    {
      "cell_type": "code",
      "metadata": {
        "id": "eN6tNxTHh72H"
      },
      "source": [
        "df.to_excel(\"export.xlsx\")"
      ],
      "execution_count": null,
      "outputs": []
    },
    {
      "cell_type": "code",
      "metadata": {
        "id": "MbrUOvP3h9UJ",
        "outputId": "206549e1-da09-443d-c5fd-1fadd718f539"
      },
      "source": [
        "df.head()"
      ],
      "execution_count": null,
      "outputs": [
        {
          "output_type": "execute_result",
          "data": {
            "text/html": [
              "<div>\n",
              "<style scoped>\n",
              "    .dataframe tbody tr th:only-of-type {\n",
              "        vertical-align: middle;\n",
              "    }\n",
              "\n",
              "    .dataframe tbody tr th {\n",
              "        vertical-align: top;\n",
              "    }\n",
              "\n",
              "    .dataframe thead th {\n",
              "        text-align: right;\n",
              "    }\n",
              "</style>\n",
              "<table border=\"1\" class=\"dataframe\">\n",
              "  <thead>\n",
              "    <tr style=\"text-align: right;\">\n",
              "      <th></th>\n",
              "      <th>sn</th>\n",
              "      <th>status</th>\n",
              "      <th>fileID</th>\n",
              "      <th>title</th>\n",
              "      <th>fileName</th>\n",
              "      <th>fileType</th>\n",
              "      <th>createTime</th>\n",
              "    </tr>\n",
              "  </thead>\n",
              "  <tbody>\n",
              "    <tr>\n",
              "      <th>0</th>\n",
              "      <td>0</td>\n",
              "      <td>Success</td>\n",
              "      <td>30168</td>\n",
              "      <td>新型冠状病毒影响之下的营销趋势预判与洞察-蓝标-20200220.pdf</td>\n",
              "      <td>新型冠状病毒影响之下的营销趋势预判与洞察-蓝标-20200220</td>\n",
              "      <td>pdf</td>\n",
              "      <td>2020/10/16 23:53:38</td>\n",
              "    </tr>\n",
              "    <tr>\n",
              "      <th>1</th>\n",
              "      <td>1</td>\n",
              "      <td>Success</td>\n",
              "      <td>30169</td>\n",
              "      <td>见实科技-公域私域新组合.pdf</td>\n",
              "      <td>见实科技-公域私域新组合</td>\n",
              "      <td>pdf</td>\n",
              "      <td>2020/10/16 23:54:33</td>\n",
              "    </tr>\n",
              "    <tr>\n",
              "      <th>2</th>\n",
              "      <td>2</td>\n",
              "      <td>Success</td>\n",
              "      <td>30170</td>\n",
              "      <td>阿里VS京东VS拼多多：三大平台之对比分析-分级、竞争、进化-2020.5.pdf</td>\n",
              "      <td>阿里VS京东VS拼多多：三大平台之对比分析-分级、竞争、进化-20205</td>\n",
              "      <td>5</td>\n",
              "      <td>2020/10/16 23:54:52</td>\n",
              "    </tr>\n",
              "    <tr>\n",
              "      <th>3</th>\n",
              "      <td>3</td>\n",
              "      <td>Success</td>\n",
              "      <td>30171</td>\n",
              "      <td>1_苏世民我的经验与教训.pdf</td>\n",
              "      <td>1_苏世民我的经验与教训</td>\n",
              "      <td>pdf</td>\n",
              "      <td>2020/10/16 23:56:53</td>\n",
              "    </tr>\n",
              "    <tr>\n",
              "      <th>4</th>\n",
              "      <td>4</td>\n",
              "      <td>Success</td>\n",
              "      <td>30172</td>\n",
              "      <td>BCG-假说驱动管理.pdf</td>\n",
              "      <td>BCG-假说驱动管理</td>\n",
              "      <td>pdf</td>\n",
              "      <td>2020/10/16 23:58:05</td>\n",
              "    </tr>\n",
              "  </tbody>\n",
              "</table>\n",
              "</div>"
            ],
            "text/plain": [
              "  sn   status fileID                                      title  \\\n",
              "0  0  Success  30168       新型冠状病毒影响之下的营销趋势预判与洞察-蓝标-20200220.pdf   \n",
              "1  1  Success  30169                           见实科技-公域私域新组合.pdf   \n",
              "2  2  Success  30170  阿里VS京东VS拼多多：三大平台之对比分析-分级、竞争、进化-2020.5.pdf   \n",
              "3  3  Success  30171                           1_苏世民我的经验与教训.pdf   \n",
              "4  4  Success  30172                             BCG-假说驱动管理.pdf   \n",
              "\n",
              "                               fileName fileType           createTime  \n",
              "0      新型冠状病毒影响之下的营销趋势预判与洞察-蓝标-20200220      pdf  2020/10/16 23:53:38  \n",
              "1                          见实科技-公域私域新组合      pdf  2020/10/16 23:54:33  \n",
              "2  阿里VS京东VS拼多多：三大平台之对比分析-分级、竞争、进化-20205        5  2020/10/16 23:54:52  \n",
              "3                          1_苏世民我的经验与教训      pdf  2020/10/16 23:56:53  \n",
              "4                            BCG-假说驱动管理      pdf  2020/10/16 23:58:05  "
            ]
          },
          "metadata": {
            "tags": []
          },
          "execution_count": 121
        }
      ]
    },
    {
      "cell_type": "code",
      "metadata": {
        "id": "fAx6a6-6iCyQ"
      },
      "source": [
        "cs=cf=0\n",
        "for c in df.status:\n",
        "    cs+=(1 if c=='Success' else 0)\n",
        "    cf+=(1 if c=='Fail' else 0)"
      ],
      "execution_count": null,
      "outputs": []
    },
    {
      "cell_type": "code",
      "metadata": {
        "id": "e7ZDGop-iHyk",
        "outputId": "ce2df549-9307-43dd-8533-15f58edf35b0"
      },
      "source": [
        "print(cs,cf)"
      ],
      "execution_count": null,
      "outputs": [
        {
          "output_type": "stream",
          "text": [
            "817 4263\n"
          ],
          "name": "stdout"
        }
      ]
    },
    {
      "cell_type": "markdown",
      "metadata": {
        "id": "lgbYo0_FiVML"
      },
      "source": [
        "## 3 - datetime - print2flash_pms"
      ]
    },
    {
      "cell_type": "code",
      "metadata": {
        "id": "N_9lG6biiMtx"
      },
      "source": [
        "dom=parse('data/FeedBack_1104_2238.xml')\n",
        "data=dom.documentElement\n",
        "fbs=data.getElementsByTagName('FeedBack')"
      ],
      "execution_count": null,
      "outputs": []
    },
    {
      "cell_type": "code",
      "metadata": {
        "id": "N1dCa9Cgibf0"
      },
      "source": [
        "import pandas as pd\n",
        "df=pd.DataFrame(columns=[\"sn\",\"status\",\"fileID\",\"title\",\"fileName\",\"fileType\",\"createTime\"]) \n",
        "ls_file_not_exist=[]\n",
        "ls_copyFail=[]"
      ],
      "execution_count": null,
      "outputs": []
    },
    {
      "cell_type": "code",
      "metadata": {
        "id": "9yvvEwdwidef"
      },
      "source": [
        "for fb in fbs:\n",
        "    sn=fb.getElementsByTagName('sn')[0].childNodes[0].nodeValue\n",
        "    status=fb.getElementsByTagName('status')[0].childNodes[0].nodeValue\n",
        "    fileID=fb.getElementsByTagName('fileID')[0].childNodes[0].nodeValue\n",
        "    title=fb.getElementsByTagName('title')[0].childNodes[0].nodeValue\n",
        "    fileName=fb.getElementsByTagName('fileName')[0].childNodes[0].nodeValue\n",
        "    # print(len(fb.getElementsByTagName('fileType')[0].childNodes))\n",
        "    if(len(fb.getElementsByTagName('fileType')[0].childNodes)>0):\n",
        "        fileType=fb.getElementsByTagName('fileType')[0].childNodes[0].nodeValue\n",
        "    else:\n",
        "        fileType=title.split('.')[-1]\n",
        "    createTime=fb.getElementsByTagName('createTime')[0].childNodes[0].nodeValue\n",
        "    if(\"exist\" in status):\n",
        "        ls_file_not_exist.append(fileID)\n",
        "    if(\"Fail\" in status and fileType in [\"doc\",\"docx\",\"xls\",\"xlsx\",\"ppt\",\"pptx\",\"pdf\"]):\n",
        "        ls_copyFail.append(fileID)\n",
        "    fbdict={\"sn\":sn,\"status\":status,\"fileID\":fileID,\"title\":title,\"fileName\":fileName,\"fileType\":fileType,\"createTime\":createTime}\n",
        "    df=df.append(fbdict,ignore_index=True)\n",
        "    # print(userdict)\n",
        "    # print(sn)\n",
        "\n",
        "datalength=len(fbs)"
      ],
      "execution_count": null,
      "outputs": []
    },
    {
      "cell_type": "code",
      "metadata": {
        "id": "F0hl31-YifBx"
      },
      "source": [
        "df.to_excel(\"feedBack_pms.xlsx\")"
      ],
      "execution_count": null,
      "outputs": []
    },
    {
      "cell_type": "code",
      "metadata": {
        "id": "qElF6daYig45"
      },
      "source": [
        "# work/output.txt\n",
        "f_op = open(\"work/output.txt\", 'w+',encoding=\"utf-8\")\n",
        "print(ls_copyFail,file=f_op)\n",
        "f_op.close()"
      ],
      "execution_count": null,
      "outputs": []
    },
    {
      "cell_type": "code",
      "metadata": {
        "id": "fDd96gW6ij-h",
        "outputId": "57e576f1-3b06-4687-8795-bb6d28102a79"
      },
      "source": [
        "len(ls_copyFail)"
      ],
      "execution_count": null,
      "outputs": [
        {
          "output_type": "execute_result",
          "data": {
            "text/plain": [
              "61"
            ]
          },
          "metadata": {
            "tags": []
          },
          "execution_count": 32
        }
      ]
    },
    {
      "cell_type": "markdown",
      "metadata": {
        "id": "PasKZGQTWnrP"
      },
      "source": [
        "# 处理文本"
      ]
    },
    {
      "cell_type": "markdown",
      "metadata": {
        "id": "J4OcFx9hWq1r"
      },
      "source": [
        "## 0 - datetime - 测试读写"
      ]
    },
    {
      "cell_type": "code",
      "metadata": {
        "id": "pZDCbv1RWr3R",
        "outputId": "06abac9d-812d-4477-dc03-5f2147b59d63"
      },
      "source": [
        "# ssby 即 莎士比亚\n",
        "filename=open('data/ssby.txt','r',encoding='utf-8')\n",
        "filename"
      ],
      "execution_count": null,
      "outputs": [
        {
          "output_type": "execute_result",
          "data": {
            "text/plain": [
              "<_io.TextIOWrapper name='data/ssby.txt' mode='r' encoding='utf-8'>"
            ]
          },
          "metadata": {
            "tags": []
          },
          "execution_count": 23
        }
      ]
    },
    {
      "cell_type": "code",
      "metadata": {
        "id": "ovZ_wNQhWwzt"
      },
      "source": [
        "filename.read()"
      ],
      "execution_count": null,
      "outputs": []
    },
    {
      "cell_type": "markdown",
      "metadata": {
        "id": "Nj7VlghVfR9u"
      },
      "source": [
        "# 打印日历"
      ]
    },
    {
      "cell_type": "code",
      "metadata": {
        "id": "o1YTb_Cue93d",
        "outputId": "6fee7538-a192-48a8-e21a-bc367a797575"
      },
      "source": [
        "i=11\n",
        "\n",
        "import calendar\n",
        "\n",
        "\n",
        "cal=calendar.Calendar()\n",
        "n=0\n",
        "dates=cal.itermonthdates(2020,i)\n",
        "for d in dates:\n",
        "    if(n%7==0):\n",
        "        print(\"\\n\\n\\n\\n\\n\")\n",
        "    mystr=d.strftime('%m月 %d日')\n",
        "    print(mystr,end=\"\\t\\t\")\n",
        "    n=n+1"
      ],
      "execution_count": null,
      "outputs": [
        {
          "output_type": "stream",
          "text": [
            "\n",
            "\n",
            "\n",
            "\n",
            "\n",
            "\n",
            "10月 26日\t\t10月 27日\t\t10月 28日\t\t10月 29日\t\t10月 30日\t\t10月 31日\t\t11月 01日\t\t\n",
            "\n",
            "\n",
            "\n",
            "\n",
            "\n",
            "11月 02日\t\t11月 03日\t\t11月 04日\t\t11月 05日\t\t11月 06日\t\t11月 07日\t\t11月 08日\t\t\n",
            "\n",
            "\n",
            "\n",
            "\n",
            "\n",
            "11月 09日\t\t11月 10日\t\t11月 11日\t\t11月 12日\t\t11月 13日\t\t11月 14日\t\t11月 15日\t\t\n",
            "\n",
            "\n",
            "\n",
            "\n",
            "\n",
            "11月 16日\t\t11月 17日\t\t11月 18日\t\t11月 19日\t\t11月 20日\t\t11月 21日\t\t11月 22日\t\t\n",
            "\n",
            "\n",
            "\n",
            "\n",
            "\n",
            "11月 23日\t\t11月 24日\t\t11月 25日\t\t11月 26日\t\t11月 27日\t\t11月 28日\t\t11月 29日\t\t\n",
            "\n",
            "\n",
            "\n",
            "\n",
            "\n",
            "11月 30日\t\t12月 01日\t\t12月 02日\t\t12月 03日\t\t12月 04日\t\t12月 05日\t\t12月 06日\t\t"
          ],
          "name": "stdout"
        }
      ]
    },
    {
      "cell_type": "markdown",
      "metadata": {
        "id": "y4aPwCadhXbZ"
      },
      "source": [
        "# 其他"
      ]
    },
    {
      "cell_type": "markdown",
      "metadata": {
        "id": "Kow27FSbhbrS"
      },
      "source": [
        "## 0 - datetime - wjj题目"
      ]
    },
    {
      "cell_type": "code",
      "metadata": {
        "id": "szvTFQE7hiBM",
        "outputId": "d4521b72-a8b6-4f48-a01c-5949a40bbd2e"
      },
      "source": [
        "from sympy import *\n",
        "\n",
        "a3=Symbol('a3')\n",
        "a4=Symbol('a4')\n",
        "a5=Symbol('a5')\n",
        "\n",
        "val=solve([a3+a4+a5-1,a3*50+a4*250+a5*2000-256],[a3,a4,a5])\n",
        "val"
      ],
      "execution_count": null,
      "outputs": [
        {
          "output_type": "execute_result",
          "data": {
            "text/plain": [
              "{a4: 103/100 - 39*a5/4, a3: 35*a5/4 - 3/100}"
            ]
          },
          "metadata": {
            "tags": []
          },
          "execution_count": 2
        }
      ]
    },
    {
      "cell_type": "code",
      "metadata": {
        "id": "BXpauq5Rhjpt"
      },
      "source": [
        "import pandas as pd\n",
        "\n",
        "ls=[]\n",
        "a5=0.001\n",
        "while(a5<0.01):\n",
        "    a4=103/100 - 39*a5/4\n",
        "    a3=35*a5/4 - 3/100\n",
        "    ls.append([a3,a4,a5])\n",
        "    a5+=0.001"
      ],
      "execution_count": null,
      "outputs": []
    },
    {
      "cell_type": "code",
      "metadata": {
        "id": "kPkCmhrxhrIF"
      },
      "source": [
        "ls"
      ],
      "execution_count": null,
      "outputs": []
    },
    {
      "cell_type": "markdown",
      "metadata": {
        "id": "dLIKMQaYhm6G"
      },
      "source": [
        "\n",
        "\n",
        "> <pre></pre>\n",
        "\n"
      ]
    },
    {
      "cell_type": "markdown",
      "metadata": {
        "id": "mx4nkuMYhm9d"
      },
      "source": [
        "\n",
        "\n",
        "> <pre></pre>\n",
        "\n"
      ]
    }
  ]
}